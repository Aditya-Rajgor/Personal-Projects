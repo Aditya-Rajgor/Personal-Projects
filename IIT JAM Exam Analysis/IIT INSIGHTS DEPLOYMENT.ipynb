{
 "cells": [
  {
   "cell_type": "code",
   "execution_count": 3,
   "metadata": {},
   "outputs": [],
   "source": [
    "import pandas as pd\n",
    "import numpy as np\n",
    "import matplotlib.pyplot as plt\n",
    "import seaborn as sns\n",
    "from itertools import combinations\n",
    "from collections import Counter\n",
    "import ipywidgets as widgets\n",
    "import ipywidgets"
   ]
  },
  {
   "cell_type": "code",
   "execution_count": 4,
   "metadata": {},
   "outputs": [],
   "source": [
    "df = pd.read_csv('iit_secret_data.csv')"
   ]
  },
  {
   "cell_type": "markdown",
   "metadata": {},
   "source": [
    "# You might be wondering which option should I select randomly for my IIT GAM exam, as a student everyone wants to find any kind of pattern in it."
   ]
  },
  {
   "cell_type": "markdown",
   "metadata": {},
   "source": [
    "# Here is the complete try for that.\n",
    "## IIT GAM mathematics previous years (2015 to 2020) analysis "
   ]
  },
  {
   "cell_type": "markdown",
   "metadata": {},
   "source": [
    "## Question Types and their Correspoing marks weitage"
   ]
  },
  {
   "cell_type": "code",
   "execution_count": 5,
   "metadata": {},
   "outputs": [
    {
     "data": {
      "text/plain": [
       "<AxesSubplot:xlabel='type', ylabel='count'>"
      ]
     },
     "execution_count": 5,
     "metadata": {},
     "output_type": "execute_result"
    },
    {
     "data": {
      "image/png": "[encoded data removed]",
      "text/plain": [
       "<Figure size 432x288 with 1 Axes>"
      ]
     },
     "metadata": {
      "needs_background": "light"
     },
     "output_type": "display_data"
    }
   ],
   "source": [
    "sns.countplot(x='type', hue='marks', data=df)"
   ]
  },
  {
   "cell_type": "code",
   "execution_count": 6,
   "metadata": {},
   "outputs": [],
   "source": [
    "df['2019'] = df['2019'].str.strip()"
   ]
  },
  {
   "cell_type": "code",
   "execution_count": 7,
   "metadata": {},
   "outputs": [],
   "source": [
    "mcq_df = df.loc[:29]"
   ]
  },
  {
   "cell_type": "code",
   "execution_count": 8,
   "metadata": {},
   "outputs": [],
   "source": [
    "mcq_key_list = mcq_df.loc[:,'2015':'2020'].values.flatten()"
   ]
  },
  {
   "cell_type": "code",
   "execution_count": 10,
   "metadata": {},
   "outputs": [],
   "source": [
    "mcq_data = pd.Series(mcq_key_list).value_counts().reset_index()"
   ]
  },
  {
   "cell_type": "markdown",
   "metadata": {},
   "source": [
    "## Only MCQ type questions"
   ]
  },
  {
   "cell_type": "code",
   "execution_count": 11,
   "metadata": {},
   "outputs": [
    {
     "data": {
      "text/plain": [
       "Text(0.5, 1.0, 'MCQ Right Answers from year 2015 to 2020')"
      ]
     },
     "execution_count": 11,
     "metadata": {},
     "output_type": "execute_result"
    },
    {
     "data": {
      "image/png": "[encoded data removed]",
      "text/plain": [
       "<Figure size 864x432 with 1 Axes>"
      ]
     },
     "metadata": {
      "needs_background": "light"
     },
     "output_type": "display_data"
    }
   ],
   "source": [
    "mcq_data = mcq_data.reindex([3,1,0,2,4])\n",
    "plt.figure(figsize=(12,6))\n",
    "sns.barplot(x='index', y=0, data=mcq_data)\n",
    "for i, v in enumerate(mcq_data[0].values):\n",
    "    plt.text(i-0.1, \n",
    "              v/mcq_data[0].values[i]+5, \n",
    "              mcq_data[0].values[i], \n",
    "              fontsize=18)\n",
    "plt.xlabel('Option',fontdict={\"color\":'black',\"fontsize\":16})\n",
    "plt.ylabel('Count',fontdict={\"color\":'black',\"fontsize\":16})\n",
    "plt.title('MCQ Right Answers from year 2015 to 2020', fontdict={\"color\":'black',\"fontsize\":16})"
   ]
  },
  {
   "cell_type": "code",
   "execution_count": 13,
   "metadata": {},
   "outputs": [],
   "source": [
    "msq_df = df[df.loc[:,'type']=='MSQ']"
   ]
  },
  {
   "cell_type": "code",
   "execution_count": 14,
   "metadata": {},
   "outputs": [],
   "source": [
    "df_2015={}\n",
    "for i in range(1,5):\n",
    "    counter=Counter()\n",
    "\n",
    "    for row in msq_df['2015']:\n",
    "        row_list=row.split(',')\n",
    "        counter.update(Counter(combinations(row_list,i)))\n",
    "\n",
    "    keys=[]\n",
    "    values=[]\n",
    "    for key,value in counter.most_common(10):\n",
    "        keys.append(key)\n",
    "        values.append(value)\n",
    "\n",
    "    df_2015[\"{0}\".format(i)]= pd.DataFrame({\n",
    "        'Pair':keys,\n",
    "        'Count':values\n",
    "    })"
   ]
  },
  {
   "cell_type": "code",
   "execution_count": 15,
   "metadata": {},
   "outputs": [],
   "source": [
    "df_2016={}\n",
    "for i in range(1,5):\n",
    "    counter=Counter()\n",
    "\n",
    "    for row in msq_df['2016']:\n",
    "        row_list=row.split(',')\n",
    "        counter.update(Counter(combinations(row_list,i)))\n",
    "\n",
    "    keys=[]\n",
    "    values=[]\n",
    "    for key,value in counter.most_common(20):\n",
    "        keys.append(key)\n",
    "        values.append(value)\n",
    "\n",
    "    df_2016[\"{0}\".format(i)]= pd.DataFrame({\n",
    "        'Pair':keys,\n",
    "        'Count':values\n",
    "    })"
   ]
  },
  {
   "cell_type": "code",
   "execution_count": 16,
   "metadata": {},
   "outputs": [],
   "source": [
    "df_2017={}\n",
    "for i in range(1,5):\n",
    "    counter=Counter()\n",
    "\n",
    "    for row in msq_df['2017']:\n",
    "        row_list=row.split(',')\n",
    "        counter.update(Counter(combinations(row_list,i)))\n",
    "\n",
    "    keys=[]\n",
    "    values=[]\n",
    "    for key,value in counter.most_common(20):\n",
    "        keys.append(key)\n",
    "        values.append(value)\n",
    "\n",
    "    df_2017[\"{0}\".format(i)]= pd.DataFrame({\n",
    "        'Pair':keys,\n",
    "        'Count':values\n",
    "    })"
   ]
  },
  {
   "cell_type": "code",
   "execution_count": 17,
   "metadata": {},
   "outputs": [],
   "source": [
    "df_2018={}\n",
    "for i in range(1,5):\n",
    "    counter=Counter()\n",
    "\n",
    "    for row in msq_df['2018']:\n",
    "        row_list=row.split(',')\n",
    "        counter.update(Counter(combinations(row_list,i)))\n",
    "\n",
    "    keys=[]\n",
    "    values=[]\n",
    "    for key,value in counter.most_common(20):\n",
    "        keys.append(key)\n",
    "        values.append(value)\n",
    "\n",
    "    df_2018[\"{0}\".format(i)]= pd.DataFrame({\n",
    "        'Pair':keys,\n",
    "        'Count':values\n",
    "    })"
   ]
  },
  {
   "cell_type": "code",
   "execution_count": 18,
   "metadata": {},
   "outputs": [],
   "source": [
    "df_2019={}\n",
    "for i in range(1,5):\n",
    "    counter=Counter()\n",
    "\n",
    "    for row in msq_df['2019']:\n",
    "        row_list=row.split(',')\n",
    "        counter.update(Counter(combinations(row_list,i)))\n",
    "\n",
    "    keys=[]\n",
    "    values=[]\n",
    "    for key,value in counter.most_common(20):\n",
    "        keys.append(key)\n",
    "        values.append(value)\n",
    "\n",
    "    df_2019[\"{0}\".format(i)]= pd.DataFrame({\n",
    "        'Pair':keys,\n",
    "        'Count':values\n",
    "    })"
   ]
  },
  {
   "cell_type": "code",
   "execution_count": 19,
   "metadata": {},
   "outputs": [],
   "source": [
    "df_2020={}\n",
    "for i in range(1,5):\n",
    "    counter=Counter()\n",
    "\n",
    "    for row in msq_df['2020']:\n",
    "        row_list=row.split(',')\n",
    "        counter.update(Counter(combinations(row_list,i)))\n",
    "\n",
    "    keys=[]\n",
    "    values=[]\n",
    "    for key,value in counter.most_common(20):\n",
    "        keys.append(key)\n",
    "        values.append(value)\n",
    "\n",
    "    df_2020[\"{0}\".format(i)]= pd.DataFrame({\n",
    "        'Pair':keys,\n",
    "        'Count':values\n",
    "    })"
   ]
  },
  {
   "cell_type": "code",
   "execution_count": 26,
   "metadata": {},
   "outputs": [],
   "source": [
    "def plot_year_msq(year):\n",
    "    \n",
    "    if year=='2015':\n",
    "        f,axes = plt.subplots(1,3, figsize=(18,5))\n",
    "        ax1 = sns.barplot(x='Pair', y='Count', data=df_2015['1'], ax= axes[0])\n",
    "        ax1.set_title('MSQ 1st degree combinations')\n",
    "        for i, v in enumerate(df_2015['1']['Count'].values):\n",
    "            ax1.text(i-.15, \n",
    "                      v/df_2015['1']['Count'].values[i], \n",
    "                      df_2015['1']['Count'].values[i], \n",
    "                      fontsize=18)\n",
    "\n",
    "        ax2 = sns.barplot(x='Pair', y='Count', data=df_2015['2'], ax=axes[1])\n",
    "        ax2.set_title('MSQ 2st degree combinations')\n",
    "        for i, v in enumerate(df_2015['2']['Count'].values):\n",
    "            ax2.text(i-.15, \n",
    "                      v/df_2015['2']['Count'].values[i], \n",
    "                      df_2015['2']['Count'].values[i], \n",
    "                      fontsize=18)\n",
    "\n",
    "        ax3 = sns.barplot(x='Pair', y='Count', data=df_2015['3'], ax=axes[2])\n",
    "        ax3.set_title('MSQ 3st degree combinations')\n",
    "        for i, v in enumerate(df_2015['3']['Count'].values):\n",
    "            ax3.text(i-.15, \n",
    "                      v/df_2015['3']['Count'].values[i]-0.8, \n",
    "                      df_2015['3']['Count'].values[i], \n",
    "                      fontsize=18)\n",
    "\n",
    "\n",
    "        plt.suptitle('MSQ ONLY Correct Answers of the year {}'.format(2015),fontsize=15)\n",
    "    \n",
    "    \n",
    "    elif year=='2016':\n",
    "        f,axes = plt.subplots(1,3, figsize=(18,5))\n",
    "        ax1 = sns.barplot(x='Pair', y='Count', data=df_2016['1'], ax= axes[0])\n",
    "        ax1.set_title('MSQ 1st degree combinations')\n",
    "        for i, v in enumerate(df_2016['1']['Count'].values):\n",
    "            ax1.text(i-.15, \n",
    "                      v/df_2016['1']['Count'].values[i], \n",
    "                      df_2016['1']['Count'].values[i], \n",
    "                      fontsize=18)\n",
    "\n",
    "        ax2 = sns.barplot(x='Pair', y='Count', data=df_2016['2'], ax=axes[1])\n",
    "        ax2.set_title('MSQ 2st degree combinations')\n",
    "        for i, v in enumerate(df_2016['2']['Count'].values):\n",
    "            ax2.text(i-.15, \n",
    "                      v/df_2016['2']['Count'].values[i], \n",
    "                      df_2016['2']['Count'].values[i], \n",
    "                      fontsize=18)\n",
    "\n",
    "        ax3 = sns.barplot(x='Pair', y='Count', data=df_2016['3'], ax=axes[2])\n",
    "        ax3.set_title('MSQ 3st degree combinations')\n",
    "        for i, v in enumerate(df_2016['3']['Count'].values):\n",
    "            ax3.text(i-.15, \n",
    "                      v/df_2016['3']['Count'].values[i]-0.8, \n",
    "                      df_2016['3']['Count'].values[i], \n",
    "                      fontsize=18)\n",
    "\n",
    "\n",
    "        plt.suptitle('MSQ ONLY Correct Answers of the year {}'.format(2016),fontsize=15)\n",
    "                 \n",
    "    elif year == '2017':\n",
    "        f,axes = plt.subplots(1,3, figsize=(18,5))\n",
    "        ax1 = sns.barplot(x='Pair', y='Count', data=df_2017['1'], ax= axes[0])\n",
    "        ax1.set_title('MSQ 1st degree combinations')\n",
    "        for i, v in enumerate(df_2017['1']['Count'].values):\n",
    "            ax1.text(i-.15, \n",
    "                      v/df_2017['1']['Count'].values[i], \n",
    "                      df_2017['1']['Count'].values[i], \n",
    "                      fontsize=18)\n",
    "\n",
    "        ax2 = sns.barplot(x='Pair', y='Count', data=df_2017['2'], ax=axes[1])\n",
    "        ax2.set_title('MSQ 2st degree combinations')\n",
    "        for i, v in enumerate(df_2017['2']['Count'].values):\n",
    "            ax2.text(i-.15, \n",
    "                      v/df_2017['2']['Count'].values[i], \n",
    "                      df_2017['2']['Count'].values[i], \n",
    "                      fontsize=18)\n",
    "\n",
    "        ax3 = sns.barplot(x='Pair', y='Count', data=df_2017['3'], ax=axes[2])\n",
    "        ax3.set_title('MSQ 3st degree combinations')\n",
    "        for i, v in enumerate(df_2017['3']['Count'].values):\n",
    "            ax3.text(i-.15, \n",
    "                      v/df_2017['3']['Count'].values[i]-0.8, \n",
    "                      df_2017['3']['Count'].values[i], \n",
    "                      fontsize=18)\n",
    "\n",
    "\n",
    "        plt.suptitle('MSQ ONLY Correct Answers of the year {}'.format(2017),fontsize=15)\n",
    "                 \n",
    "    elif year=='2018':\n",
    "        f,axes = plt.subplots(1,3, figsize=(18,5))\n",
    "        ax1 = sns.barplot(x='Pair', y='Count', data=df_2018['1'], ax= axes[0])\n",
    "        ax1.set_title('MSQ 1st degree combinations')\n",
    "        for i, v in enumerate(df_2018['1']['Count'].values):\n",
    "            ax1.text(i-.15, \n",
    "                      v/df_2018['1']['Count'].values[i], \n",
    "                      df_2018['1']['Count'].values[i], \n",
    "                      fontsize=18)\n",
    "\n",
    "        ax2 = sns.barplot(x='Pair', y='Count', data=df_2018['2'], ax=axes[1])\n",
    "        ax2.set_title('MSQ 2st degree combinations')\n",
    "        for i, v in enumerate(df_2018['2']['Count'].values):\n",
    "            ax2.text(i-.15, \n",
    "                      v/df_2018['2']['Count'].values[i], \n",
    "                      df_2018['2']['Count'].values[i], \n",
    "                      fontsize=18)\n",
    "\n",
    "        ax3 = sns.barplot(x='Pair', y='Count', data=df_2018['3'], ax=axes[2])\n",
    "        ax3.set_title('MSQ 3st degree combinations')\n",
    "        for i, v in enumerate(df_2018['3']['Count'].values):\n",
    "            ax3.text(i-.15, \n",
    "                      v/df_2018['3']['Count'].values[i]-0.8, \n",
    "                      df_2018['3']['Count'].values[i], \n",
    "                      fontsize=18)\n",
    "\n",
    "\n",
    "        plt.suptitle('MSQ ONLY Correct Answers of the year {}'.format(2018),fontsize=15)\n",
    "                     \n",
    "    elif year=='2019':\n",
    "        f,axes = plt.subplots(1,3, figsize=(18,5))\n",
    "        ax1 = sns.barplot(x='Pair', y='Count', data=df_2019['1'], ax= axes[0])\n",
    "        ax1.set_title('MSQ 1st degree combinations')\n",
    "        for i, v in enumerate(df_2019['1']['Count'].values):\n",
    "            ax1.text(i-.15, \n",
    "                      v/df_2019['1']['Count'].values[i], \n",
    "                      df_2019['1']['Count'].values[i], \n",
    "                      fontsize=18)\n",
    "\n",
    "        ax2 = sns.barplot(x='Pair', y='Count', data=df_2019['2'], ax=axes[1])\n",
    "        ax2.set_title('MSQ 2st degree combinations')\n",
    "        for i, v in enumerate(df_2019['2']['Count'].values):\n",
    "            ax2.text(i-.15, \n",
    "                      v/df_2019['2']['Count'].values[i], \n",
    "                      df_2019['2']['Count'].values[i], \n",
    "                      fontsize=18)\n",
    "\n",
    "        ax3 = sns.barplot(x='Pair', y='Count', data=df_2019['3'], ax=axes[2])\n",
    "        ax3.set_title('MSQ 3st degree combinations')\n",
    "        for i, v in enumerate(df_2019['3']['Count'].values):\n",
    "            ax3.text(i-.15, \n",
    "                      v/df_2019['3']['Count'].values[i]-0.8, \n",
    "                      df_2019['3']['Count'].values[i], \n",
    "                      fontsize=18)\n",
    "\n",
    "\n",
    "        plt.suptitle('MSQ ONLY Correct Answers of the year {}'.format(2019),fontsize=15)\n",
    "                     \n",
    "    else:             \n",
    "        f,axes = plt.subplots(1,3, figsize=(18,5))\n",
    "        ax1 = sns.barplot(x='Pair', y='Count', data=df_2020['1'], ax= axes[0])\n",
    "        ax1.set_title('MSQ 1st degree combinations')\n",
    "        for i, v in enumerate(df_2020['1']['Count'].values):\n",
    "            ax1.text(i-.15, \n",
    "                      v/df_2020['1']['Count'].values[i], \n",
    "                      df_2020['1']['Count'].values[i], \n",
    "                      fontsize=18)\n",
    "\n",
    "        ax2 = sns.barplot(x='Pair', y='Count', data=df_2020['2'], ax=axes[1])\n",
    "        ax2.set_title('MSQ 2st degree combinations')\n",
    "        for i, v in enumerate(df_2020['2']['Count'].values):\n",
    "            ax2.text(i-.15, \n",
    "                      v/df_2020['2']['Count'].values[i], \n",
    "                      df_2020['2']['Count'].values[i], \n",
    "                      fontsize=18)\n",
    "\n",
    "        ax3 = sns.barplot(x='Pair', y='Count', data=df_2020['3'], ax=axes[2])\n",
    "        ax3.set_title('MSQ 3st degree combinations')\n",
    "        for i, v in enumerate(df_2020['3']['Count'].values):\n",
    "            ax3.text(i-.15, \n",
    "                      v/df_2020['3']['Count'].values[i]-0.8, \n",
    "                      df_2020['3']['Count'].values[i], \n",
    "                      fontsize=18)\n",
    "\n",
    "\n",
    "        plt.suptitle('MSQ ONLY Correct Answers of the year {}'.format(2020),fontsize=15)"
   ]
  },
  {
   "cell_type": "code",
   "execution_count": null,
   "metadata": {},
   "outputs": [],
   "source": []
  },
  {
   "cell_type": "code",
   "execution_count": 27,
   "metadata": {},
   "outputs": [],
   "source": [
    "style = {'description_width': 'initial'}\n",
    "years_slider =widgets.ToggleButtons(\n",
    "    options=['2015','2016','2017','2018','2019','2020'],\n",
    "    value='2015',\n",
    "    description='Select Year',\n",
    "    disabled=False,\n",
    "    style=style\n",
    "\n",
    ")"
   ]
  },
  {
   "cell_type": "markdown",
   "metadata": {},
   "source": [
    "## MSQ Only for Each year, conclude by yourself "
   ]
  },
  {
   "cell_type": "code",
   "execution_count": 28,
   "metadata": {},
   "outputs": [
    {
     "data": {
      "application/vnd.jupyter.widget-view+json": {
       "model_id": "c7c1540a0a2949dba6d4a5f7747f548e",
       "version_major": 2,
       "version_minor": 0
      },
      "text/plain": [
       "interactive(children=(ToggleButtons(description='Select Year', options=('2015', '2016', '2017', '2018', '2019'…"
      ]
     },
     "metadata": {},
     "output_type": "display_data"
    },
    {
     "data": {
      "text/plain": [
       "<function __main__.plot_year_msq(year)>"
      ]
     },
     "execution_count": 28,
     "metadata": {},
     "output_type": "execute_result"
    }
   ],
   "source": [
    "widgets.interact(plot_year_msq, year=years_slider)"
   ]
  },
  {
   "cell_type": "code",
   "execution_count": 29,
   "metadata": {},
   "outputs": [],
   "source": [
    "comb1_df = pd.concat([df_2015['1'],df_2016['1'],df_2017['1'],df_2018['1'],df_2019['1'], df_2020['1']],ignore_index=True,axis=0)"
   ]
  },
  {
   "cell_type": "code",
   "execution_count": 30,
   "metadata": {},
   "outputs": [],
   "source": [
    "pair1_grp = comb1_df.groupby('Pair')"
   ]
  },
  {
   "cell_type": "code",
   "execution_count": 31,
   "metadata": {},
   "outputs": [],
   "source": [
    "com1_df = pd.DataFrame({\n",
    "    'Option':['A', 'B', 'C', 'D'],\n",
    "    'Count':[36,29,34,37]\n",
    "})"
   ]
  },
  {
   "cell_type": "code",
   "execution_count": 32,
   "metadata": {},
   "outputs": [],
   "source": [
    "comb2_df = pd.concat([df_2015['2'],df_2016['2'],df_2017['2'],df_2018['2'],df_2019['2'], df_2020['2']],ignore_index=True,axis=0)"
   ]
  },
  {
   "cell_type": "code",
   "execution_count": 33,
   "metadata": {},
   "outputs": [],
   "source": [
    "pair2_grp = comb2_df.groupby('Pair')"
   ]
  },
  {
   "cell_type": "code",
   "execution_count": 34,
   "metadata": {},
   "outputs": [],
   "source": [
    "com2_df = pd.DataFrame({\n",
    "    'Option':['A_B', 'A_C', 'A_D', 'B_C', 'B_D', 'C_D'],\n",
    "    'Count':[10,16,20,17,14,17]\n",
    "})"
   ]
  },
  {
   "cell_type": "code",
   "execution_count": 35,
   "metadata": {},
   "outputs": [],
   "source": [
    "comb3_df = pd.concat([df_2015['3'],df_2016['3'],df_2017['3'],df_2018['3'],df_2019['3'], df_2020['3']],ignore_index=True,axis=0)"
   ]
  },
  {
   "cell_type": "code",
   "execution_count": 36,
   "metadata": {},
   "outputs": [],
   "source": [
    "com3_df = pd.DataFrame({\n",
    "    'Option':['A_B_C', 'A_B_D', 'A_C_D', 'B_C_D'],\n",
    "    'Count':[4,2,5,7]\n",
    "})"
   ]
  },
  {
   "cell_type": "code",
   "execution_count": 37,
   "metadata": {},
   "outputs": [],
   "source": [
    "comb4_df = pd.concat([df_2015['4'],df_2016['4'],df_2017['4'],df_2018['4'],df_2019['4'], df_2020['4']],ignore_index=True,axis=0)"
   ]
  },
  {
   "cell_type": "markdown",
   "metadata": {},
   "source": [
    "## MSQ Only last 5 years "
   ]
  },
  {
   "cell_type": "code",
   "execution_count": 42,
   "metadata": {},
   "outputs": [
    {
     "data": {
      "text/plain": [
       "Text(0.5, 0.98, 'MSQ ONLY Correct Answers over last 5 Years in Count')"
      ]
     },
     "execution_count": 42,
     "metadata": {},
     "output_type": "execute_result"
    },
    {
     "data": {
      "image/png": "[encoded data removed]",
      "text/plain": [
       "<Figure size 1296x360 with 3 Axes>"
      ]
     },
     "metadata": {
      "needs_background": "light"
     },
     "output_type": "display_data"
    }
   ],
   "source": [
    "f,axes = plt.subplots(1,3, figsize=(18,5))\n",
    "ax1 = sns.barplot(x='Option', y='Count', data=com1_df, ax= axes[0])\n",
    "ax1.set_title('MSQ 1st degree combinations')\n",
    "for i, v in enumerate(com1_df['Count'].values):\n",
    "    ax1.text(i-.15, \n",
    "              v/com1_df['Count'].values[i], \n",
    "              com1_df['Count'].values[i], \n",
    "              fontsize=18)\n",
    "    \n",
    "ax2 = sns.barplot(x='Option', y='Count', data=com2_df, ax=axes[1])\n",
    "ax2.set_title('MSQ 2st degree combinations')\n",
    "for i, v in enumerate(com2_df['Count'].values):\n",
    "    ax2.text(i-.15, \n",
    "              v/com2_df['Count'].values[i], \n",
    "              com2_df['Count'].values[i], \n",
    "              fontsize=18)\n",
    "\n",
    "ax3 = sns.barplot(x='Option', y='Count', data=com3_df, ax=axes[2])\n",
    "ax3.set_title('MSQ 3st degree combinations')\n",
    "for i, v in enumerate(com3_df['Count'].values):\n",
    "    ax3.text(i-.15, \n",
    "              v/com3_df['Count'].values[i]-0.8, \n",
    "              com3_df['Count'].values[i], \n",
    "              fontsize=18)\n",
    "    \n",
    "    \n",
    "plt.suptitle('MSQ ONLY Correct Answers over last 5 Years in Count',fontsize=15)"
   ]
  },
  {
   "cell_type": "markdown",
   "metadata": {},
   "source": [
    "### This doesn't mean Only A alone was the right answer in MSQ, This actually mean on the MSQ type questions from 2015 to 2020 A was the right answer 36 times including A alone itself + A & B + A & C + A & D + A, B & C + A, B & D + A, C &D."
   ]
  },
  {
   "cell_type": "code",
   "execution_count": 39,
   "metadata": {},
   "outputs": [],
   "source": [
    "ALL_MCQ_df = df.loc[:39, '2015':'2020']"
   ]
  },
  {
   "cell_type": "code",
   "execution_count": 40,
   "metadata": {},
   "outputs": [],
   "source": [
    "ALL_MCQ_df['2015'] = ALL_MCQ_df['2015'].str.strip()\n",
    "ALL_MCQ_df['2016'] = ALL_MCQ_df['2016'].str.strip()\n",
    "ALL_MCQ_df['2017'] = ALL_MCQ_df['2017'].str.strip()\n",
    "ALL_MCQ_df['2018'] = ALL_MCQ_df['2018'].str.strip()\n",
    "ALL_MCQ_df['2019'] = ALL_MCQ_df['2019'].str.strip()\n",
    "ALL_MCQ_df['2020'] = ALL_MCQ_df['2020'].str.strip()"
   ]
  },
  {
   "cell_type": "code",
   "execution_count": 41,
   "metadata": {},
   "outputs": [],
   "source": [
    "counter=Counter()\n",
    "\n",
    "for row in ALL_MCQ_df.values.flatten():\n",
    "    row_list=row.split(',')\n",
    "    counter.update(Counter(combinations(row_list,1)))\n",
    "\n",
    "    keys=[]\n",
    "    values=[]\n",
    "    for key,value in counter.most_common(100):\n",
    "        keys.append(key)\n",
    "        values.append(value)\n",
    "\n",
    "    FINAL_COUNTS_df= pd.DataFrame({\n",
    "        'Pair':keys,\n",
    "        'Count':values\n",
    "    })"
   ]
  },
  {
   "cell_type": "code",
   "execution_count": 45,
   "metadata": {},
   "outputs": [],
   "source": [
    "all_abcd = pd.DataFrame({\n",
    "    'Option':['A','B','C','D', 'MTA'],\n",
    "    'Count': [76,75,82,80,3]\n",
    "})"
   ]
  },
  {
   "cell_type": "markdown",
   "metadata": {},
   "source": [
    "## A, B, C or D? "
   ]
  },
  {
   "cell_type": "code",
   "execution_count": 46,
   "metadata": {
    "scrolled": true
   },
   "outputs": [
    {
     "data": {
      "text/plain": [
       "Text(0.5, 1.0, 'MCQ+MSQ Total Correct Answers over last 5 Years')"
      ]
     },
     "execution_count": 46,
     "metadata": {},
     "output_type": "execute_result"
    },
    {
     "data": {
      "image/png": "[encoded data removed]",
      "text/plain": [
       "<Figure size 864x432 with 1 Axes>"
      ]
     },
     "metadata": {
      "needs_background": "light"
     },
     "output_type": "display_data"
    }
   ],
   "source": [
    "plt.figure(figsize=(12,6))\n",
    "sns.barplot(x='Option', y='Count', data=all_abcd)\n",
    "for i, v in enumerate(all_abcd['Count'].values):\n",
    "    plt.text(i-0.1, \n",
    "              v/all_abcd['Count'].values[i]+5, \n",
    "              all_abcd['Count'].values[i], \n",
    "              fontsize=18)\n",
    "plt.xlabel('Option',fontdict={\"color\":'black',\"fontsize\":16})\n",
    "plt.ylabel('Count',fontdict={\"color\":'black',\"fontsize\":16})\n",
    "plt.title('MCQ+MSQ Total Correct Answers over last 5 Years', fontdict={\"color\":'black',\"fontsize\":16})"
   ]
  },
  {
   "cell_type": "markdown",
   "metadata": {},
   "source": [
    "## Start Preparing  bro"
   ]
  },
  {
   "cell_type": "code",
   "execution_count": 47,
   "metadata": {},
   "outputs": [],
   "source": [
    "counter=Counter()\n",
    "\n",
    "for row in ALL_MCQ_df['2015']:\n",
    "    row_list=row.split(',')\n",
    "    counter.update(Counter(combinations(row_list,1)))\n",
    "\n",
    "keys=[]\n",
    "values=[]\n",
    "for key,value in counter.most_common(10):\n",
    "    keys.append(key)\n",
    "    values.append(value)\n",
    "\n",
    "df_all_2015= pd.DataFrame({\n",
    "    'Pair':keys,\n",
    "    'Count':values\n",
    "})"
   ]
  },
  {
   "cell_type": "code",
   "execution_count": 48,
   "metadata": {},
   "outputs": [],
   "source": [
    "counter=Counter()\n",
    "\n",
    "for row in ALL_MCQ_df['2016']:\n",
    "    row_list=row.split(',')\n",
    "    counter.update(Counter(combinations(row_list,1)))\n",
    "\n",
    "keys=[]\n",
    "values=[]\n",
    "for key,value in counter.most_common(10):\n",
    "    keys.append(key)\n",
    "    values.append(value)\n",
    "\n",
    "df_all_2016= pd.DataFrame({\n",
    "    'Pair':keys,\n",
    "    'Count':values\n",
    "})"
   ]
  },
  {
   "cell_type": "code",
   "execution_count": 49,
   "metadata": {},
   "outputs": [],
   "source": [
    "counter=Counter()\n",
    "\n",
    "for row in ALL_MCQ_df['2017']:\n",
    "    row_list=row.split(',')\n",
    "    counter.update(Counter(combinations(row_list,1)))\n",
    "\n",
    "keys=[]\n",
    "values=[]\n",
    "for key,value in counter.most_common(10):\n",
    "    keys.append(key)\n",
    "    values.append(value)\n",
    "\n",
    "df_all_2017= pd.DataFrame({\n",
    "    'Pair':keys,\n",
    "    'Count':values\n",
    "})"
   ]
  },
  {
   "cell_type": "code",
   "execution_count": 50,
   "metadata": {},
   "outputs": [],
   "source": [
    "counter=Counter()\n",
    "\n",
    "for row in ALL_MCQ_df['2018']:\n",
    "    row_list=row.split(',')\n",
    "    counter.update(Counter(combinations(row_list,1)))\n",
    "\n",
    "keys=[]\n",
    "values=[]\n",
    "for key,value in counter.most_common(10):\n",
    "    keys.append(key)\n",
    "    values.append(value)\n",
    "\n",
    "df_all_2018= pd.DataFrame({\n",
    "    'Pair':keys,\n",
    "    'Count':values\n",
    "})"
   ]
  },
  {
   "cell_type": "code",
   "execution_count": 51,
   "metadata": {},
   "outputs": [],
   "source": [
    "counter=Counter()\n",
    "\n",
    "for row in ALL_MCQ_df['2019']:\n",
    "    row_list=row.split(',')\n",
    "    counter.update(Counter(combinations(row_list,1)))\n",
    "\n",
    "keys=[]\n",
    "values=[]\n",
    "for key,value in counter.most_common(10):\n",
    "    keys.append(key)\n",
    "    values.append(value)\n",
    "\n",
    "df_all_2019= pd.DataFrame({\n",
    "    'Pair':keys,\n",
    "    'Count':values\n",
    "})"
   ]
  },
  {
   "cell_type": "code",
   "execution_count": 52,
   "metadata": {},
   "outputs": [],
   "source": [
    "counter=Counter()\n",
    "\n",
    "for row in ALL_MCQ_df['2020']:\n",
    "    row_list=row.split(',')\n",
    "    counter.update(Counter(combinations(row_list,1)))\n",
    "\n",
    "keys=[]\n",
    "values=[]\n",
    "for key,value in counter.most_common(10):\n",
    "    keys.append(key)\n",
    "    values.append(value)\n",
    "\n",
    "df_all_2020= pd.DataFrame({\n",
    "    'Pair':keys,\n",
    "    'Count':values\n",
    "})"
   ]
  },
  {
   "cell_type": "code",
   "execution_count": 53,
   "metadata": {},
   "outputs": [],
   "source": [
    "df_all_2015 = df_all_2015.reindex([0,3,2,1])"
   ]
  },
  {
   "cell_type": "code",
   "execution_count": 54,
   "metadata": {},
   "outputs": [],
   "source": [
    "df_all_2016 = df_all_2016.reindex([3,1,2,0,4])"
   ]
  },
  {
   "cell_type": "code",
   "execution_count": 55,
   "metadata": {},
   "outputs": [],
   "source": [
    "df_all_2017 = df_all_2017.reindex([2,3,1,0])"
   ]
  },
  {
   "cell_type": "code",
   "execution_count": 56,
   "metadata": {},
   "outputs": [],
   "source": [
    "df_all_2018 = df_all_2018.reindex([2,1,0,3])"
   ]
  },
  {
   "cell_type": "code",
   "execution_count": 57,
   "metadata": {},
   "outputs": [],
   "source": [
    "df_all_2019 = pd.DataFrame({\n",
    "    'Pair':['A', 'B', 'C', 'D'],\n",
    "    'Count':[12,14,13,11]\n",
    "})"
   ]
  },
  {
   "cell_type": "code",
   "execution_count": 58,
   "metadata": {},
   "outputs": [],
   "source": [
    "df_all_2020 = df_all_2020.reindex([1,3,2,0,4])"
   ]
  },
  {
   "cell_type": "code",
   "execution_count": 59,
   "metadata": {},
   "outputs": [],
   "source": [
    "for i in df_all_2015['Pair']:\n",
    "    if i == \"('A',)\":\n",
    "        print(i)"
   ]
  },
  {
   "cell_type": "code",
   "execution_count": 60,
   "metadata": {},
   "outputs": [],
   "source": [
    "counts15 = df_all_2015['Count'].values\n",
    "counts16 = df_all_2016['Count'].values\n",
    "counts17 = df_all_2017['Count'].values\n",
    "counts18 = df_all_2018['Count'].values\n",
    "counts19 = df_all_2019['Count'].values\n",
    "counts20 = df_all_2020['Count'].values"
   ]
  },
  {
   "cell_type": "code",
   "execution_count": null,
   "metadata": {},
   "outputs": [],
   "source": []
  },
  {
   "cell_type": "markdown",
   "metadata": {},
   "source": [
    "##  MCQ + MSQ Combined from \"A\",\"B\",\"C\",\"D\" which was correct most times in each year?"
   ]
  },
  {
   "cell_type": "code",
   "execution_count": 74,
   "metadata": {
    "scrolled": false
   },
   "outputs": [
    {
     "data": {
      "text/plain": [
       "Text(0.5, 0.98, 'MCQ + MSQ Correct Options Over Past 5 Years ')"
      ]
     },
     "execution_count": 74,
     "metadata": {},
     "output_type": "execute_result"
    },
    {
     "data": {
      "image/png": "[encoded data removed]",
      "text/plain": [
       "<Figure size 1008x432 with 6 Axes>"
      ]
     },
     "metadata": {
      "needs_background": "light"
     },
     "output_type": "display_data"
    }
   ],
   "source": [
    "\n",
    "f,axes = plt.subplots(2,3,figsize=(14,6))\n",
    "#plt.figure(figsize=(7,4))\n",
    "\n",
    "ax00 = sns.barplot(x='Pair', y='Count', data=df_all_2015, ax=axes[0,0])\n",
    "ax00.set_xticklabels(list('ABCD'))\n",
    "ax00.set_title('2015')\n",
    "ax00.set_xlabel('')\n",
    "for i, v in enumerate(counts15):\n",
    "    ax00.text(i-.15, \n",
    "              v/counts15[i], \n",
    "              counts15[i], \n",
    "              fontsize=18)\n",
    "    \n",
    "ax01 = sns.barplot(x='Pair', y='Count', data=df_all_2016, ax = axes[0,1])\n",
    "ax01.set_xticklabels(['A','B','C','D','MTA'])\n",
    "ax01.set_title('2016')\n",
    "ax01.set_xlabel('')\n",
    "ax01.set_ylabel('')\n",
    "for i, v in enumerate(counts16):\n",
    "    ax01.text(i-.15, \n",
    "              v/counts16[i], \n",
    "              counts16[i], \n",
    "              fontsize=18)\n",
    "    \n",
    "ax02 = sns.barplot(x='Pair', y='Count', data=df_all_2017, ax = axes[0,2])\n",
    "ax02.set_xticklabels(list('ABCD'))\n",
    "ax02.set_title('2017')\n",
    "ax02.set_xlabel('')\n",
    "ax02.set_ylabel('')\n",
    "for i, v in enumerate(counts17):\n",
    "    ax02.text(i-.15, \n",
    "              v/counts17[i], \n",
    "              counts17[i], \n",
    "              fontsize=18)\n",
    "    \n",
    "ax10 = sns.barplot(x='Pair', y='Count', data=df_all_2018, ax = axes[1,0])\n",
    "ax10.set_xticklabels(list('ABCD'))\n",
    "ax10.set_title('2018')\n",
    "ax10.set_xlabel('')\n",
    "\n",
    "for i, v in enumerate(counts18):\n",
    "    ax10.text(i-.15, \n",
    "              v/counts18[i], \n",
    "              counts18[i], \n",
    "              fontsize=18)\n",
    "    \n",
    "ax11 = sns.barplot(x='Pair', y='Count', data=df_all_2019, ax = axes[1,1])\n",
    "ax11.set_xticklabels(list('ABCD'))\n",
    "ax11.set_title('2019')\n",
    "ax11.set_xlabel('')\n",
    "ax11.set_ylabel('')\n",
    "for i, v in enumerate(counts19):\n",
    "    ax11.text(i-.15, \n",
    "              v/counts19[i], \n",
    "              counts19[i], \n",
    "              fontsize=18)\n",
    "    \n",
    "ax12 = sns.barplot(x='Pair', y='Count', data=df_all_2020, ax = axes[1,2])\n",
    "ax12.set_xticklabels(['A','B','C','D','MTA'])\n",
    "ax12.set_title('2020')\n",
    "ax12.set_xlabel('')\n",
    "ax12.set_ylabel('')\n",
    "for i, v in enumerate(counts20):\n",
    "    ax12.text(i-.15, \n",
    "              v/counts20[i], \n",
    "              counts20[i], \n",
    "              fontsize=18)\n",
    "    \n",
    "plt.suptitle('MCQ + MSQ Correct Options Over Past 5 Years ',fontsize=20)\n"
   ]
  },
  {
   "cell_type": "markdown",
   "metadata": {},
   "source": [
    "## Sadness everywhere: It's pretty much clear that there is no pattern in this. \n",
    "## Paisa,Time, Khoon, Pasina, Mehanat SAB BARABAD"
   ]
  },
  {
   "cell_type": "code",
   "execution_count": 62,
   "metadata": {},
   "outputs": [],
   "source": [
    "NAT_df = df[df.loc[:,'type']=='NAT']"
   ]
  },
  {
   "cell_type": "code",
   "execution_count": 63,
   "metadata": {},
   "outputs": [
    {
     "name": "stderr",
     "output_type": "stream",
     "text": [
      "/home/hacker101/PycharmProjects/matplotlib/venv/lib/python3.8/site-packages/pandas/core/indexing.py:1763: SettingWithCopyWarning: \n",
      "A value is trying to be set on a copy of a slice from a DataFrame.\n",
      "Try using .loc[row_indexer,col_indexer] = value instead\n",
      "\n",
      "See the caveats in the documentation: https://pandas.pydata.org/pandas-docs/stable/user_guide/indexing.html#returning-a-view-versus-a-copy\n",
      "  isetter(loc, value)\n"
     ]
    }
   ],
   "source": [
    "NAT_df.loc[45,'2016']='-1.0'"
   ]
  },
  {
   "cell_type": "code",
   "execution_count": 64,
   "metadata": {},
   "outputs": [],
   "source": [
    "NAT_df.loc[55,'2016']='-0.3'"
   ]
  },
  {
   "cell_type": "code",
   "execution_count": 65,
   "metadata": {},
   "outputs": [],
   "source": [
    "NAT_ans = NAT_df.loc[:,'2015':'2020'].values.flatten()"
   ]
  },
  {
   "cell_type": "code",
   "execution_count": 66,
   "metadata": {},
   "outputs": [],
   "source": [
    "NAT_counts_df = pd.Series(NAT_ans).reset_index()"
   ]
  },
  {
   "cell_type": "code",
   "execution_count": 67,
   "metadata": {},
   "outputs": [],
   "source": [
    "NAT_counts_df[0] = NAT_counts_df[0].str.replace(' ','')"
   ]
  },
  {
   "cell_type": "code",
   "execution_count": 68,
   "metadata": {},
   "outputs": [],
   "source": [
    "def format_change(string):\n",
    "    if string == \"-1\":\n",
    "        string = string[:-1]"
   ]
  },
  {
   "cell_type": "code",
   "execution_count": 69,
   "metadata": {},
   "outputs": [],
   "source": [
    "NAT_counts_df[0] = NAT_counts_df[0].astype(float)"
   ]
  },
  {
   "cell_type": "code",
   "execution_count": 70,
   "metadata": {},
   "outputs": [],
   "source": [
    "nat_counts = NAT_counts_df[0].value_counts().nlargest(15).reset_index().sort_values(by='index')[0].values"
   ]
  },
  {
   "cell_type": "code",
   "execution_count": 71,
   "metadata": {},
   "outputs": [
    {
     "data": {
      "text/plain": [
       "array([ 3,  2,  2,  5,  4,  4,  9,  9,  2,  4, 12,  4,  3,  2,  4])"
      ]
     },
     "execution_count": 71,
     "metadata": {},
     "output_type": "execute_result"
    }
   ],
   "source": [
    "nat_counts\n"
   ]
  },
  {
   "cell_type": "markdown",
   "metadata": {},
   "source": [
    "## Which answer is more likely to choose for NAT type questions?"
   ]
  },
  {
   "cell_type": "code",
   "execution_count": 73,
   "metadata": {},
   "outputs": [
    {
     "data": {
      "text/plain": [
       "Text(0, 0.5, 'Right Answer Counts')"
      ]
     },
     "execution_count": 73,
     "metadata": {},
     "output_type": "execute_result"
    },
    {
     "data": {
      "image/png": "[encoded data removed]",
      "text/plain": [
       "<Figure size 864x432 with 1 Axes>"
      ]
     },
     "metadata": {
      "needs_background": "light"
     },
     "output_type": "display_data"
    }
   ],
   "source": [
    "plt.figure(figsize=(12,6))\n",
    "plt.title('NAT',fontdict={'fontsize':16})\n",
    "sns.barplot(x='index', y=0, data=NAT_counts_df[0].value_counts().nlargest(15).reset_index())\n",
    "for i, v in enumerate(nat_counts):\n",
    "    plt.text(i-.15, \n",
    "              v/nat_counts[i], \n",
    "              nat_counts[i], \n",
    "              fontsize=14)\n",
    "plt.xlabel('Right Answer', fontdict={'fontsize':16})\n",
    "plt.ylabel('Right Answer Counts', fontdict={'fontsize':16})\n"
   ]
  },
  {
   "cell_type": "markdown",
   "metadata": {},
   "source": [
    "## I didn't expect \"3\" to be top in this list. 'Cause I thoght in maths there is more likely to get answer either 1 or 0. Well, from the data we can say that if you think 3 can be answer just go for it, that question might reapeated. This is just top 15 answers.\n",
    "\n",
    "### Side Note: I took lower bound of all ranged answers"
   ]
  },
  {
   "cell_type": "markdown",
   "metadata": {},
   "source": [
    "## END "
   ]
  },
  {
   "cell_type": "code",
   "execution_count": 76,
   "metadata": {},
   "outputs": [
    {
     "data": {
      "text/plain": [
       "'.'"
      ]
     },
     "execution_count": 76,
     "metadata": {},
     "output_type": "execute_result"
    }
   ],
   "source": [
    "\".\""
   ]
  },
  {
   "cell_type": "markdown",
   "metadata": {},
   "source": [
    "## [Linkdein](https://www.linkedin.com/in/aditya-rajgor/)\n",
    "## [IG](https://www.instagram.com/aditya__rajgor/)"
   ]
  },
  {
   "cell_type": "code",
   "execution_count": null,
   "metadata": {},
   "outputs": [],
   "source": []
  }
 ],
 "metadata": {
  "kernelspec": {
   "display_name": "Python 3",
   "language": "python",
   "name": "python3"
  },
  "language_info": {
   "codemirror_mode": {
    "name": "ipython",
    "version": 3
   },
   "file_extension": ".py",
   "mimetype": "text/x-python",
   "name": "python",
   "nbconvert_exporter": "python",
   "pygments_lexer": "ipython3",
   "version": "3.8.5"
  }
 },
 "nbformat": 4,
 "nbformat_minor": 4
}
