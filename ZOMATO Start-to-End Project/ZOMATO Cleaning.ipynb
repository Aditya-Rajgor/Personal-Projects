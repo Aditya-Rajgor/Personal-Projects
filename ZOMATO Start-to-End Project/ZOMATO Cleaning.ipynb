{
 "cells": [
  {
   "cell_type": "markdown",
   "metadata": {},
   "source": [
    "# Data cleaning of zomato dataset"
   ]
  },
  {
   "cell_type": "markdown",
   "metadata": {},
   "source": [
    "## Alert: Because this is cleaning part, you'll see lots of words like 'Removing','Replacing' and 'Splitting'."
   ]
  },
  {
   "cell_type": "raw",
   "metadata": {},
   "source": []
  },
  {
   "cell_type": "code",
   "execution_count": 150,
   "metadata": {},
   "outputs": [],
   "source": [
    "import pandas as pd"
   ]
  },
  {
   "cell_type": "code",
   "execution_count": 151,
   "metadata": {},
   "outputs": [],
   "source": [
    "df = pd.read_csv('zomato_vadodara.csv')#csv-file we achived by using beautiful soup"
   ]
  },
  {
   "cell_type": "code",
   "execution_count": 152,
   "metadata": {},
   "outputs": [
    {
     "data": {
      "text/html": [
       "<div>\n",
       "<style scoped>\n",
       "    .dataframe tbody tr th:only-of-type {\n",
       "        vertical-align: middle;\n",
       "    }\n",
       "\n",
       "    .dataframe tbody tr th {\n",
       "        vertical-align: top;\n",
       "    }\n",
       "\n",
       "    .dataframe thead th {\n",
       "        text-align: right;\n",
       "    }\n",
       "</style>\n",
       "<table border=\"1\" class=\"dataframe\">\n",
       "  <thead>\n",
       "    <tr style=\"text-align: right;\">\n",
       "      <th></th>\n",
       "      <th>Restaurant</th>\n",
       "      <th>Cousines</th>\n",
       "      <th>Rating</th>\n",
       "      <th>Rating_counts</th>\n",
       "      <th>Delivery_rating</th>\n",
       "      <th>Delivery_rating_counts</th>\n",
       "      <th>Area</th>\n",
       "      <th>Adress</th>\n",
       "      <th>Price_for_2</th>\n",
       "      <th>Open_time</th>\n",
       "    </tr>\n",
       "  </thead>\n",
       "  <tbody>\n",
       "    <tr>\n",
       "      <th>0</th>\n",
       "      <td>Jassi De Parathe</td>\n",
       "      <td>North Indian</td>\n",
       "      <td>4.7</td>\n",
       "      <td>(1,634)</td>\n",
       "      <td>4.2</td>\n",
       "      <td>(18.5K)</td>\n",
       "      <td>Alkapuri</td>\n",
       "      <td>R.C Dutt Road, Near Kalaniketan, Alkapuri, Vad...</td>\n",
       "      <td>₹600</td>\n",
       "      <td>11am – 11:30pm (Mon-Sun)</td>\n",
       "    </tr>\n",
       "    <tr>\n",
       "      <th>1</th>\n",
       "      <td>Marwari Food Corner</td>\n",
       "      <td>North Indian, Rajasthani, Fast Food, Chinese</td>\n",
       "      <td>4.3</td>\n",
       "      <td>(1,505)</td>\n",
       "      <td>3.8</td>\n",
       "      <td>(29.2K)</td>\n",
       "      <td>Karelibaug</td>\n",
       "      <td>Shop No. 21 &amp; 22 Ratri-bazaar, Mangal Pandey R...</td>\n",
       "      <td>₹250</td>\n",
       "      <td>4pm – 2am (Mon-Sun)</td>\n",
       "    </tr>\n",
       "    <tr>\n",
       "      <th>2</th>\n",
       "      <td>KFC</td>\n",
       "      <td>Burger, Fast Food, Finger Food, Beverages</td>\n",
       "      <td>4.2</td>\n",
       "      <td>(1,003)</td>\n",
       "      <td>4.3</td>\n",
       "      <td>(16.8K)</td>\n",
       "      <td>Vadodara Central, Alkapuri</td>\n",
       "      <td>19, Ground Floor, Vadodara Central Mall, Near ...</td>\n",
       "      <td>₹450</td>\n",
       "      <td>1pm – 9:30pm (Mon-Sun)</td>\n",
       "    </tr>\n",
       "  </tbody>\n",
       "</table>\n",
       "</div>"
      ],
      "text/plain": [
       "            Restaurant                                      Cousines  Rating  \\\n",
       "0     Jassi De Parathe                                  North Indian     4.7   \n",
       "1  Marwari Food Corner  North Indian, Rajasthani, Fast Food, Chinese     4.3   \n",
       "2                  KFC     Burger, Fast Food, Finger Food, Beverages     4.2   \n",
       "\n",
       "  Rating_counts  Delivery_rating Delivery_rating_counts  \\\n",
       "0       (1,634)              4.2                (18.5K)   \n",
       "1       (1,505)              3.8                (29.2K)   \n",
       "2       (1,003)              4.3                (16.8K)   \n",
       "\n",
       "                         Area  \\\n",
       "0                    Alkapuri   \n",
       "1                  Karelibaug   \n",
       "2  Vadodara Central, Alkapuri   \n",
       "\n",
       "                                              Adress Price_for_2  \\\n",
       "0  R.C Dutt Road, Near Kalaniketan, Alkapuri, Vad...        ₹600   \n",
       "1  Shop No. 21 & 22 Ratri-bazaar, Mangal Pandey R...        ₹250   \n",
       "2  19, Ground Floor, Vadodara Central Mall, Near ...        ₹450   \n",
       "\n",
       "                  Open_time  \n",
       "0  11am – 11:30pm (Mon-Sun)  \n",
       "1       4pm – 2am (Mon-Sun)  \n",
       "2    1pm – 9:30pm (Mon-Sun)  "
      ]
     },
     "execution_count": 152,
     "metadata": {},
     "output_type": "execute_result"
    }
   ],
   "source": [
    "df.head(3)"
   ]
  },
  {
   "cell_type": "code",
   "execution_count": 153,
   "metadata": {
    "scrolled": true
   },
   "outputs": [
    {
     "data": {
      "text/plain": [
       "Restaurant                 object\n",
       "Cousines                   object\n",
       "Rating                    float64\n",
       "Rating_counts              object\n",
       "Delivery_rating           float64\n",
       "Delivery_rating_counts     object\n",
       "Area                       object\n",
       "Adress                     object\n",
       "Price_for_2                object\n",
       "Open_time                  object\n",
       "dtype: object"
      ]
     },
     "execution_count": 153,
     "metadata": {},
     "output_type": "execute_result"
    }
   ],
   "source": [
    "df.dtypes"
   ]
  },
  {
   "cell_type": "code",
   "execution_count": 154,
   "metadata": {},
   "outputs": [],
   "source": [
    "list_=['Rating_counts','Delivery_rating_counts']"
   ]
  },
  {
   "cell_type": "markdown",
   "metadata": {},
   "source": [
    "### Removing '()' from Rating counts and Delivery Rating Counts"
   ]
  },
  {
   "cell_type": "code",
   "execution_count": 155,
   "metadata": {},
   "outputs": [],
   "source": [
    "for x in list_:\n",
    "    df[x]=df[x].str.strip('()')"
   ]
  },
  {
   "cell_type": "markdown",
   "metadata": {},
   "source": [
    "### Removing Reviews text  which is right after some Delivery Counts  values"
   ]
  },
  {
   "cell_type": "code",
   "execution_count": 156,
   "metadata": {},
   "outputs": [],
   "source": [
    "df['Delivery_rating_counts']= df['Delivery_rating_counts'].str.split(' ',expand=True)[0]"
   ]
  },
  {
   "cell_type": "markdown",
   "metadata": {},
   "source": [
    "### Removing unnecessary comma in rating and delivery rating counts like 1,000~1000"
   ]
  },
  {
   "cell_type": "code",
   "execution_count": 157,
   "metadata": {},
   "outputs": [],
   "source": [
    "for x in list_:\n",
    "    df[x]=df[x].str.replace(',','')"
   ]
  },
  {
   "cell_type": "code",
   "execution_count": 158,
   "metadata": {},
   "outputs": [
    {
     "data": {
      "text/html": [
       "<div>\n",
       "<style scoped>\n",
       "    .dataframe tbody tr th:only-of-type {\n",
       "        vertical-align: middle;\n",
       "    }\n",
       "\n",
       "    .dataframe tbody tr th {\n",
       "        vertical-align: top;\n",
       "    }\n",
       "\n",
       "    .dataframe thead th {\n",
       "        text-align: right;\n",
       "    }\n",
       "</style>\n",
       "<table border=\"1\" class=\"dataframe\">\n",
       "  <thead>\n",
       "    <tr style=\"text-align: right;\">\n",
       "      <th></th>\n",
       "      <th>Restaurant</th>\n",
       "      <th>Cousines</th>\n",
       "      <th>Rating</th>\n",
       "      <th>Rating_counts</th>\n",
       "      <th>Delivery_rating</th>\n",
       "      <th>Delivery_rating_counts</th>\n",
       "      <th>Area</th>\n",
       "      <th>Adress</th>\n",
       "      <th>Price_for_2</th>\n",
       "      <th>Open_time</th>\n",
       "    </tr>\n",
       "  </thead>\n",
       "  <tbody>\n",
       "    <tr>\n",
       "      <th>0</th>\n",
       "      <td>Jassi De Parathe</td>\n",
       "      <td>North Indian</td>\n",
       "      <td>4.7</td>\n",
       "      <td>1634</td>\n",
       "      <td>4.2</td>\n",
       "      <td>18.5K</td>\n",
       "      <td>Alkapuri</td>\n",
       "      <td>R.C Dutt Road, Near Kalaniketan, Alkapuri, Vad...</td>\n",
       "      <td>₹600</td>\n",
       "      <td>11am – 11:30pm (Mon-Sun)</td>\n",
       "    </tr>\n",
       "    <tr>\n",
       "      <th>1</th>\n",
       "      <td>Marwari Food Corner</td>\n",
       "      <td>North Indian, Rajasthani, Fast Food, Chinese</td>\n",
       "      <td>4.3</td>\n",
       "      <td>1505</td>\n",
       "      <td>3.8</td>\n",
       "      <td>29.2K</td>\n",
       "      <td>Karelibaug</td>\n",
       "      <td>Shop No. 21 &amp; 22 Ratri-bazaar, Mangal Pandey R...</td>\n",
       "      <td>₹250</td>\n",
       "      <td>4pm – 2am (Mon-Sun)</td>\n",
       "    </tr>\n",
       "    <tr>\n",
       "      <th>2</th>\n",
       "      <td>KFC</td>\n",
       "      <td>Burger, Fast Food, Finger Food, Beverages</td>\n",
       "      <td>4.2</td>\n",
       "      <td>1003</td>\n",
       "      <td>4.3</td>\n",
       "      <td>16.8K</td>\n",
       "      <td>Vadodara Central, Alkapuri</td>\n",
       "      <td>19, Ground Floor, Vadodara Central Mall, Near ...</td>\n",
       "      <td>₹450</td>\n",
       "      <td>1pm – 9:30pm (Mon-Sun)</td>\n",
       "    </tr>\n",
       "  </tbody>\n",
       "</table>\n",
       "</div>"
      ],
      "text/plain": [
       "            Restaurant                                      Cousines  Rating  \\\n",
       "0     Jassi De Parathe                                  North Indian     4.7   \n",
       "1  Marwari Food Corner  North Indian, Rajasthani, Fast Food, Chinese     4.3   \n",
       "2                  KFC     Burger, Fast Food, Finger Food, Beverages     4.2   \n",
       "\n",
       "  Rating_counts  Delivery_rating Delivery_rating_counts  \\\n",
       "0          1634              4.2                  18.5K   \n",
       "1          1505              3.8                  29.2K   \n",
       "2          1003              4.3                  16.8K   \n",
       "\n",
       "                         Area  \\\n",
       "0                    Alkapuri   \n",
       "1                  Karelibaug   \n",
       "2  Vadodara Central, Alkapuri   \n",
       "\n",
       "                                              Adress Price_for_2  \\\n",
       "0  R.C Dutt Road, Near Kalaniketan, Alkapuri, Vad...        ₹600   \n",
       "1  Shop No. 21 & 22 Ratri-bazaar, Mangal Pandey R...        ₹250   \n",
       "2  19, Ground Floor, Vadodara Central Mall, Near ...        ₹450   \n",
       "\n",
       "                  Open_time  \n",
       "0  11am – 11:30pm (Mon-Sun)  \n",
       "1       4pm – 2am (Mon-Sun)  \n",
       "2    1pm – 9:30pm (Mon-Sun)  "
      ]
     },
     "execution_count": 158,
     "metadata": {},
     "output_type": "execute_result"
    }
   ],
   "source": [
    "df.head(3)"
   ]
  },
  {
   "cell_type": "markdown",
   "metadata": {},
   "source": [
    "### We need to change 'K' into column of 1000s and them multiply that column with counts column "
   ]
  },
  {
   "cell_type": "code",
   "execution_count": 159,
   "metadata": {},
   "outputs": [],
   "source": [
    "df['K']=df['Delivery_rating_counts'].str.extract(r'[\\d\\.]+([K]+)').fillna(1).replace('K',1000)"
   ]
  },
  {
   "cell_type": "code",
   "execution_count": 160,
   "metadata": {},
   "outputs": [],
   "source": [
    "df['Delivery_rating_counts']=df['Delivery_rating_counts'].replace(r'[K]+$','',regex=True).astype(float)"
   ]
  },
  {
   "cell_type": "code",
   "execution_count": 161,
   "metadata": {},
   "outputs": [],
   "source": [
    "df['Delivery_rating_counts']= df['Delivery_rating_counts']*df['K']\n"
   ]
  },
  {
   "cell_type": "code",
   "execution_count": 162,
   "metadata": {},
   "outputs": [
    {
     "data": {
      "text/html": [
       "<div>\n",
       "<style scoped>\n",
       "    .dataframe tbody tr th:only-of-type {\n",
       "        vertical-align: middle;\n",
       "    }\n",
       "\n",
       "    .dataframe tbody tr th {\n",
       "        vertical-align: top;\n",
       "    }\n",
       "\n",
       "    .dataframe thead th {\n",
       "        text-align: right;\n",
       "    }\n",
       "</style>\n",
       "<table border=\"1\" class=\"dataframe\">\n",
       "  <thead>\n",
       "    <tr style=\"text-align: right;\">\n",
       "      <th></th>\n",
       "      <th>Restaurant</th>\n",
       "      <th>Cousines</th>\n",
       "      <th>Rating</th>\n",
       "      <th>Rating_counts</th>\n",
       "      <th>Delivery_rating</th>\n",
       "      <th>Delivery_rating_counts</th>\n",
       "      <th>Area</th>\n",
       "      <th>Adress</th>\n",
       "      <th>Price_for_2</th>\n",
       "      <th>Open_time</th>\n",
       "      <th>K</th>\n",
       "    </tr>\n",
       "  </thead>\n",
       "  <tbody>\n",
       "    <tr>\n",
       "      <th>0</th>\n",
       "      <td>Jassi De Parathe</td>\n",
       "      <td>North Indian</td>\n",
       "      <td>4.7</td>\n",
       "      <td>1634</td>\n",
       "      <td>4.2</td>\n",
       "      <td>18500.0</td>\n",
       "      <td>Alkapuri</td>\n",
       "      <td>R.C Dutt Road, Near Kalaniketan, Alkapuri, Vad...</td>\n",
       "      <td>₹600</td>\n",
       "      <td>11am – 11:30pm (Mon-Sun)</td>\n",
       "      <td>1000</td>\n",
       "    </tr>\n",
       "    <tr>\n",
       "      <th>1</th>\n",
       "      <td>Marwari Food Corner</td>\n",
       "      <td>North Indian, Rajasthani, Fast Food, Chinese</td>\n",
       "      <td>4.3</td>\n",
       "      <td>1505</td>\n",
       "      <td>3.8</td>\n",
       "      <td>29200.0</td>\n",
       "      <td>Karelibaug</td>\n",
       "      <td>Shop No. 21 &amp; 22 Ratri-bazaar, Mangal Pandey R...</td>\n",
       "      <td>₹250</td>\n",
       "      <td>4pm – 2am (Mon-Sun)</td>\n",
       "      <td>1000</td>\n",
       "    </tr>\n",
       "  </tbody>\n",
       "</table>\n",
       "</div>"
      ],
      "text/plain": [
       "            Restaurant                                      Cousines  Rating  \\\n",
       "0     Jassi De Parathe                                  North Indian     4.7   \n",
       "1  Marwari Food Corner  North Indian, Rajasthani, Fast Food, Chinese     4.3   \n",
       "\n",
       "  Rating_counts  Delivery_rating  Delivery_rating_counts        Area  \\\n",
       "0          1634              4.2                 18500.0    Alkapuri   \n",
       "1          1505              3.8                 29200.0  Karelibaug   \n",
       "\n",
       "                                              Adress Price_for_2  \\\n",
       "0  R.C Dutt Road, Near Kalaniketan, Alkapuri, Vad...        ₹600   \n",
       "1  Shop No. 21 & 22 Ratri-bazaar, Mangal Pandey R...        ₹250   \n",
       "\n",
       "                  Open_time     K  \n",
       "0  11am – 11:30pm (Mon-Sun)  1000  \n",
       "1       4pm – 2am (Mon-Sun)  1000  "
      ]
     },
     "execution_count": 162,
     "metadata": {},
     "output_type": "execute_result"
    }
   ],
   "source": [
    "df.head(2) #Done"
   ]
  },
  {
   "cell_type": "markdown",
   "metadata": {},
   "source": [
    "### Removing unncessary spaces"
   ]
  },
  {
   "cell_type": "code",
   "execution_count": 163,
   "metadata": {},
   "outputs": [],
   "source": [
    "df['Rating_counts']= df['Rating_counts'].str.split(' ',expand=True)[0]\n",
    "df['Price_for_2']= df['Price_for_2'].str.replace(',','')\n",
    "df['Rating_counts']=df['Rating_counts'].astype(float)"
   ]
  },
  {
   "cell_type": "markdown",
   "metadata": {},
   "source": [
    "### Replacing  '₹' with empty space"
   ]
  },
  {
   "cell_type": "code",
   "execution_count": 164,
   "metadata": {
    "scrolled": false
   },
   "outputs": [],
   "source": [
    "df['Price_for_2']=df['Price_for_2'].replace('₹','',regex=True).astype(int)"
   ]
  },
  {
   "cell_type": "code",
   "execution_count": 165,
   "metadata": {},
   "outputs": [
    {
     "data": {
      "text/plain": [
       "array(['Alkapuri', 'Karelibaug', 'Vadodara Central, Alkapuri', 'Mandvi',\n",
       "       'Nizampura', 'Kendranagar', 'Vadiwadi', 'Akota', 'Makarpura',\n",
       "       'Diwalipura', 'Sayajigunj', 'Fatehgunj', 'Manjalpur', 'Gotri',\n",
       "       'Subhanpura', 'Gorwa', 'Bhayli', 'Inorbit Mall, Subhanpura',\n",
       "       'Suryanagar', 'Sayajipura', 'Sama', 'Panchvati',\n",
       "       'Sayaji Hotel, Sayajiganj', 'Lilleria Food Court, Vadiwadi',\n",
       "       'Tarsali', 'M Cube Mall, Vadiwadi',\n",
       "       'Hotel Express Towers, Alkapuri', 'Navapura', 'L&T Knowledge City',\n",
       "       'Vivanta Vadodara, Akota', 'Yakutpura',\n",
       "       'Seven Seas Mall, Fatehgunj'], dtype=object)"
      ]
     },
     "execution_count": 165,
     "metadata": {},
     "output_type": "execute_result"
    }
   ],
   "source": [
    "df['Area'].unique()"
   ]
  },
  {
   "cell_type": "markdown",
   "metadata": {},
   "source": [
    "### We have some multiple values for same areas, we needs to fix this"
   ]
  },
  {
   "cell_type": "code",
   "execution_count": 166,
   "metadata": {},
   "outputs": [],
   "source": [
    "df['area'] = df['Area'].str.split(',',expand=True)[1].str.replace(' ','')\n",
    "area = df['area'].unique()\n",
    "for i in area:\n",
    "    index = df[df.loc[:,'area']==i].index\n",
    "    df.loc[index,'Area']=i"
   ]
  },
  {
   "cell_type": "code",
   "execution_count": 167,
   "metadata": {
    "scrolled": false
   },
   "outputs": [
    {
     "data": {
      "text/plain": [
       "Alkapuri              90\n",
       "Diwalipura            64\n",
       "Karelibaug            50\n",
       "Vadiwadi              50\n",
       "Akota                 42\n",
       "Fatehgunj             38\n",
       "Sayajigunj            29\n",
       "Subhanpura            29\n",
       "Kendranagar           27\n",
       "Mandvi                26\n",
       "Manjalpur             23\n",
       "Nizampura             20\n",
       "Gotri                 19\n",
       "Sayajipura            10\n",
       "Makarpura             10\n",
       "Sama                   6\n",
       "Suryanagar             4\n",
       "Navapura               3\n",
       "Bhayli                 3\n",
       "Sayajiganj             2\n",
       "Gorwa                  2\n",
       "Panchvati              1\n",
       "Tarsali                1\n",
       "Yakutpura              1\n",
       "L&T Knowledge City     1\n",
       "Name: Area, dtype: int64"
      ]
     },
     "execution_count": 167,
     "metadata": {},
     "output_type": "execute_result"
    }
   ],
   "source": [
    "df['Area'].value_counts()"
   ]
  },
  {
   "cell_type": "code",
   "execution_count": 168,
   "metadata": {},
   "outputs": [
    {
     "data": {
      "text/plain": [
       "Int64Index([238, 516], dtype='int64')"
      ]
     },
     "execution_count": 168,
     "metadata": {},
     "output_type": "execute_result"
    }
   ],
   "source": [
    "df[df['Area']=='Sayajiganj'].index"
   ]
  },
  {
   "cell_type": "code",
   "execution_count": 169,
   "metadata": {},
   "outputs": [],
   "source": [
    "df.loc[df[df['Area']=='Sayajiganj'].index,'Area']='Sayajigunj'"
   ]
  },
  {
   "cell_type": "code",
   "execution_count": 170,
   "metadata": {},
   "outputs": [],
   "source": [
    "df.drop('K',axis=1,inplace=True)"
   ]
  },
  {
   "cell_type": "raw",
   "metadata": {},
   "source": []
  },
  {
   "cell_type": "markdown",
   "metadata": {},
   "source": [
    "## Now the Hardest part, changing time range into date-time pandas series"
   ]
  },
  {
   "cell_type": "markdown",
   "metadata": {},
   "source": [
    "### To be honest this took me half day to figure out. Because we don't have year and date column and also we have range of time (not specific value of time). But eventually hard work paid off"
   ]
  },
  {
   "cell_type": "raw",
   "metadata": {},
   "source": []
  },
  {
   "cell_type": "markdown",
   "metadata": {},
   "source": [
    "### Splitting Open time column"
   ]
  },
  {
   "cell_type": "code",
   "execution_count": 171,
   "metadata": {},
   "outputs": [],
   "source": [
    "df[['time','week']] = df['Open_time'].str.split('(',1,expand=True)\n",
    "\n",
    "df[['1st_time','2nd_time','3rd_time']] = df['time'].str.split(',',expand=True)\n",
    "\n",
    "df[['1st_time_open','1st_time_close']]=df['1st_time'].str.split('–',expand=True)\n",
    "\n",
    "df[['2nd_time_open','2nd_time_close']]=df['2nd_time'].str.split('–',expand=True)"
   ]
  },
  {
   "cell_type": "markdown",
   "metadata": {},
   "source": [
    "### Removing empty spaces"
   ]
  },
  {
   "cell_type": "code",
   "execution_count": 172,
   "metadata": {},
   "outputs": [],
   "source": [
    "df['1st_time_open'] = df['1st_time_open'].str.replace(' ','')\n",
    "df['2nd_time_open'] = df['2nd_time_open'].str.replace(' ','')\n",
    "\n",
    "df['1st_time_close'] = df['1st_time_close'].str.replace(' ','')\n",
    "df['2nd_time_close'] = df['2nd_time_close'].str.replace(' ','')"
   ]
  },
  {
   "cell_type": "markdown",
   "metadata": {},
   "source": [
    "### Computer's brain can't understand words, Therefore we need to fix words like 'noon' and 'midnight'."
   ]
  },
  {
   "cell_type": "code",
   "execution_count": 173,
   "metadata": {},
   "outputs": [],
   "source": [
    "df.loc[df[df.loc[:,'1st_time_open']=='12noon'].index,'1st_time_open']='12pm'\n",
    "df.loc[df[df.loc[:,'1st_time_open']=='24Hours'].index,'1st_time_open']='12am'\n",
    "df.loc[df[df.loc[:,'1st_time_open']=='12midnight'].index,'1st_time_open']='12am'\n",
    "\n",
    "df.loc[df[df.loc[:,'1st_time_close']=='12midnight'].index,'1st_time_close']='12am'"
   ]
  },
  {
   "cell_type": "code",
   "execution_count": 174,
   "metadata": {},
   "outputs": [],
   "source": [
    "df.loc[47,'1st_time_open']='12pm'\n",
    "df.loc[51,'1st_time_open']='11pm'\n",
    "df.loc[161,'1st_time_open']='6pm'\n",
    "df.loc[322,'1st_time_open']='1pm'\n",
    "df.loc[404,'1st_time_open']='9am'\n",
    "\n",
    "df.loc[47,'2nd_time_open']='7pm'\n",
    "df.loc[47,'2nd_time_close']='10:30pm'\n",
    "\n",
    "df.loc[47,'1st_time_close']='3pm'\n",
    "df.loc[51,'1st_time_close']='12pm'\n",
    "df.loc[161,'1st_time_close']='11pm'\n",
    "df.loc[322,'1st_time_close']='12am'\n",
    "df.loc[404,'1st_time_close']='9am'"
   ]
  },
  {
   "cell_type": "code",
   "execution_count": 175,
   "metadata": {},
   "outputs": [],
   "source": [
    "df.loc[df[df.loc[:,'2nd_time_open']=='12midnight'].index,'2nd_time_open']='12am'\n",
    "df.loc[df[df.loc[:,'2nd_time_open']=='12noon'].index,'2nd_time_open']='12pm'\n",
    "\n",
    "df.loc[df[df.loc[:,'2nd_time_close']=='12midnight'].index,'2nd_time_close']='12am'\n",
    "df.loc[df[df.loc[:,'2nd_time_close']=='12midnight...'].index,'2nd_time_close']='12am'"
   ]
  },
  {
   "cell_type": "raw",
   "metadata": {},
   "source": []
  },
  {
   "cell_type": "markdown",
   "metadata": {},
   "source": [
    "### Another Problem, we need to change the format 11am into 11:00am"
   ]
  },
  {
   "cell_type": "code",
   "execution_count": 176,
   "metadata": {},
   "outputs": [],
   "source": [
    "df['1st_time_open_ampm'] = df['1st_time_open'].str.extract(r'[\\d\\.]+([am|pm]+)')\n",
    "df['1st_time_open']=df['1st_time_open'].replace(r'[am|pm]+$','',regex=True)\n",
    "df[['1st_time_open_hour','1st_time_open_minute']]=df['1st_time_open'].str.split(':',expand=True)\n",
    "df['1st_time_open_minute'] =df['1st_time_open_minute'].fillna('00')\n",
    "df['1st_time_open']=df['1st_time_open_hour']+':'+df['1st_time_open_minute']+df['1st_time_open_ampm']"
   ]
  },
  {
   "cell_type": "code",
   "execution_count": 177,
   "metadata": {},
   "outputs": [],
   "source": [
    "df['1st_time_close_ampm'] = df['1st_time_close'].str.extract(r'[\\d\\.]+([am|pm]+)')\n",
    "df['1st_time_close']=df['1st_time_close'].replace(r'[am|pm]+$','',regex=True)\n",
    "df[['1st_time_close_hour','1st_time_close_minute']]=df['1st_time_close'].str.split(':',expand=True)\n",
    "df['1st_time_close_minute'] =df['1st_time_close_minute'].fillna('00')\n",
    "df['1st_time_close']=df['1st_time_close_hour']+':'+df['1st_time_close_minute']+df['1st_time_close_ampm']"
   ]
  },
  {
   "cell_type": "code",
   "execution_count": 178,
   "metadata": {
    "scrolled": true
   },
   "outputs": [],
   "source": [
    "df['2nd_time_open_ampm'] = df['2nd_time_open'].str.extract(r'[\\d\\.]+([am|pm]+)')\n",
    "df['2nd_time_open']=df['2nd_time_open'].replace(r'[am|pm]+$','',regex=True)\n",
    "df[['2nd_time_open_hour','2nd_time_open_minute']]=df['2nd_time_open'].str.split(':',expand=True)\n",
    "df['2nd_time_open_minute'] =df['2nd_time_open_minute'].fillna('00')\n",
    "df['2nd_time_open']=df['2nd_time_open_hour']+':'+df['2nd_time_open_minute']+df['2nd_time_open_ampm']"
   ]
  },
  {
   "cell_type": "code",
   "execution_count": 179,
   "metadata": {},
   "outputs": [],
   "source": [
    "df['2nd_time_close_ampm'] = df['2nd_time_close'].str.extract(r'[\\d\\.]+([am|pm]+)')\n",
    "df['2nd_time_close']=df['2nd_time_close'].replace(r'[am|pm]+$','',regex=True)\n",
    "df[['2nd_time_close_hour','2nd_time_close_minute']]=df['2nd_time_close'].str.split(':',expand=True)\n",
    "df['2nd_time_close_minute'] =df['2nd_time_close_minute'].fillna('00')\n",
    "df['2nd_time_close']=df['2nd_time_close_hour']+':'+df['2nd_time_close_minute']+df['2nd_time_close_ampm']"
   ]
  },
  {
   "cell_type": "raw",
   "metadata": {},
   "source": []
  },
  {
   "cell_type": "markdown",
   "metadata": {},
   "source": [
    "### Done Now we have all hours in one pattern, then problem is we don't have year and date in our time like column, After putting so much time, I realized that answer is simple af. Just add dummy year and date who cares! Although we will be using only hours."
   ]
  },
  {
   "cell_type": "code",
   "execution_count": 180,
   "metadata": {},
   "outputs": [],
   "source": [
    "df['1st_time_open']='2020-10-15'+' '+df['1st_time_open']\n",
    "df['1st_time_close']='2020-10-15'+' '+df['1st_time_close']\n",
    "\n",
    "df['2nd_time_open']='2020-10-15'+' '+df['2nd_time_open']\n",
    "df['2nd_time_close']='2020-10-15'+' '+df['2nd_time_close']"
   ]
  },
  {
   "cell_type": "markdown",
   "metadata": {},
   "source": [
    "### Changing into date-time pandas series "
   ]
  },
  {
   "cell_type": "code",
   "execution_count": 181,
   "metadata": {},
   "outputs": [],
   "source": [
    "df['1st_time_open']=pd.to_datetime(df['1st_time_open'])\n",
    "df['1st_time_close']=pd.to_datetime(df['1st_time_close'])\n",
    "\n",
    "df['2nd_time_open']=pd.to_datetime(df['2nd_time_open'])\n",
    "df['2nd_time_close']=pd.to_datetime(df['2nd_time_close'])"
   ]
  },
  {
   "cell_type": "code",
   "execution_count": 182,
   "metadata": {
    "scrolled": false
   },
   "outputs": [
    {
     "data": {
      "text/plain": [
       "0   2020-10-15 11:00:00\n",
       "1   2020-10-15 16:00:00\n",
       "2   2020-10-15 13:00:00\n",
       "3   2020-10-15 11:00:00\n",
       "4   2020-10-15 09:00:00\n",
       "Name: 1st_time_open, dtype: datetime64[ns]"
      ]
     },
     "execution_count": 182,
     "metadata": {},
     "output_type": "execute_result"
    }
   ],
   "source": [
    "df['1st_time_open'].head()"
   ]
  },
  {
   "cell_type": "markdown",
   "metadata": {},
   "source": [
    "### Hell Yeah! "
   ]
  },
  {
   "cell_type": "raw",
   "metadata": {},
   "source": []
  },
  {
   "cell_type": "code",
   "execution_count": 183,
   "metadata": {},
   "outputs": [
    {
     "data": {
      "text/plain": [
       "Mon-Sun)                           506\n",
       "Mon-Sat),Closed(Sun)                 3\n",
       "Mon,Wed,Thu,Fri,Sat,Sun)...          2\n",
       "Mon,Tue,Wed...                       2\n",
       "Mon),11am–3pm,7pm–11pm(Tue-Sun)      2\n",
       "Mon),6pm–11pm(Tue-Sun)               1\n",
       "Mon),12noon–11pm(Tue-Sun)            1\n",
       "Name: week, dtype: int64"
      ]
     },
     "execution_count": 183,
     "metadata": {},
     "output_type": "execute_result"
    }
   ],
   "source": [
    "df['week'] = df['week'].str.replace(' ','')\n",
    "df['week'].value_counts().head(7)"
   ]
  },
  {
   "cell_type": "raw",
   "metadata": {},
   "source": [
    "Compare to all 7 days open restaurents other restaurents are extremly low. Therefor It's not important to classify and put them into separate box-value. Besides, we won't consider this restaurent when we look make graphs or classify by time."
   ]
  },
  {
   "cell_type": "markdown",
   "metadata": {},
   "source": [
    "### Keeping necessary columns "
   ]
  },
  {
   "cell_type": "code",
   "execution_count": 184,
   "metadata": {},
   "outputs": [],
   "source": [
    "df = df[['Restaurant','Cousines','Rating','Rating_counts','Delivery_rating','Delivery_rating_counts','Area','Adress','Price_for_2','1st_time_open','1st_time_close','2nd_time_open','2nd_time_close','week']]"
   ]
  },
  {
   "cell_type": "code",
   "execution_count": 185,
   "metadata": {},
   "outputs": [
    {
     "data": {
      "text/html": [
       "<div>\n",
       "<style scoped>\n",
       "    .dataframe tbody tr th:only-of-type {\n",
       "        vertical-align: middle;\n",
       "    }\n",
       "\n",
       "    .dataframe tbody tr th {\n",
       "        vertical-align: top;\n",
       "    }\n",
       "\n",
       "    .dataframe thead th {\n",
       "        text-align: right;\n",
       "    }\n",
       "</style>\n",
       "<table border=\"1\" class=\"dataframe\">\n",
       "  <thead>\n",
       "    <tr style=\"text-align: right;\">\n",
       "      <th></th>\n",
       "      <th>Restaurant</th>\n",
       "      <th>Cousines</th>\n",
       "      <th>Rating</th>\n",
       "      <th>Rating_counts</th>\n",
       "      <th>Delivery_rating</th>\n",
       "      <th>Delivery_rating_counts</th>\n",
       "      <th>Area</th>\n",
       "      <th>Adress</th>\n",
       "      <th>Price_for_2</th>\n",
       "      <th>1st_time_open</th>\n",
       "      <th>1st_time_close</th>\n",
       "      <th>2nd_time_open</th>\n",
       "      <th>2nd_time_close</th>\n",
       "      <th>week</th>\n",
       "    </tr>\n",
       "  </thead>\n",
       "  <tbody>\n",
       "    <tr>\n",
       "      <th>0</th>\n",
       "      <td>Jassi De Parathe</td>\n",
       "      <td>North Indian</td>\n",
       "      <td>4.7</td>\n",
       "      <td>1634.0</td>\n",
       "      <td>4.2</td>\n",
       "      <td>18500.0</td>\n",
       "      <td>Alkapuri</td>\n",
       "      <td>R.C Dutt Road, Near Kalaniketan, Alkapuri, Vad...</td>\n",
       "      <td>600</td>\n",
       "      <td>2020-10-15 11:00:00</td>\n",
       "      <td>2020-10-15 23:30:00</td>\n",
       "      <td>NaT</td>\n",
       "      <td>NaT</td>\n",
       "      <td>Mon-Sun)</td>\n",
       "    </tr>\n",
       "    <tr>\n",
       "      <th>1</th>\n",
       "      <td>Marwari Food Corner</td>\n",
       "      <td>North Indian, Rajasthani, Fast Food, Chinese</td>\n",
       "      <td>4.3</td>\n",
       "      <td>1505.0</td>\n",
       "      <td>3.8</td>\n",
       "      <td>29200.0</td>\n",
       "      <td>Karelibaug</td>\n",
       "      <td>Shop No. 21 &amp; 22 Ratri-bazaar, Mangal Pandey R...</td>\n",
       "      <td>250</td>\n",
       "      <td>2020-10-15 16:00:00</td>\n",
       "      <td>2020-10-15 02:00:00</td>\n",
       "      <td>NaT</td>\n",
       "      <td>NaT</td>\n",
       "      <td>Mon-Sun)</td>\n",
       "    </tr>\n",
       "    <tr>\n",
       "      <th>2</th>\n",
       "      <td>KFC</td>\n",
       "      <td>Burger, Fast Food, Finger Food, Beverages</td>\n",
       "      <td>4.2</td>\n",
       "      <td>1003.0</td>\n",
       "      <td>4.3</td>\n",
       "      <td>16800.0</td>\n",
       "      <td>Alkapuri</td>\n",
       "      <td>19, Ground Floor, Vadodara Central Mall, Near ...</td>\n",
       "      <td>450</td>\n",
       "      <td>2020-10-15 13:00:00</td>\n",
       "      <td>2020-10-15 21:30:00</td>\n",
       "      <td>NaT</td>\n",
       "      <td>NaT</td>\n",
       "      <td>Mon-Sun)</td>\n",
       "    </tr>\n",
       "  </tbody>\n",
       "</table>\n",
       "</div>"
      ],
      "text/plain": [
       "            Restaurant                                      Cousines  Rating  \\\n",
       "0     Jassi De Parathe                                  North Indian     4.7   \n",
       "1  Marwari Food Corner  North Indian, Rajasthani, Fast Food, Chinese     4.3   \n",
       "2                  KFC     Burger, Fast Food, Finger Food, Beverages     4.2   \n",
       "\n",
       "   Rating_counts  Delivery_rating  Delivery_rating_counts        Area  \\\n",
       "0         1634.0              4.2                 18500.0    Alkapuri   \n",
       "1         1505.0              3.8                 29200.0  Karelibaug   \n",
       "2         1003.0              4.3                 16800.0    Alkapuri   \n",
       "\n",
       "                                              Adress  Price_for_2  \\\n",
       "0  R.C Dutt Road, Near Kalaniketan, Alkapuri, Vad...          600   \n",
       "1  Shop No. 21 & 22 Ratri-bazaar, Mangal Pandey R...          250   \n",
       "2  19, Ground Floor, Vadodara Central Mall, Near ...          450   \n",
       "\n",
       "        1st_time_open      1st_time_close 2nd_time_open 2nd_time_close  \\\n",
       "0 2020-10-15 11:00:00 2020-10-15 23:30:00           NaT            NaT   \n",
       "1 2020-10-15 16:00:00 2020-10-15 02:00:00           NaT            NaT   \n",
       "2 2020-10-15 13:00:00 2020-10-15 21:30:00           NaT            NaT   \n",
       "\n",
       "       week  \n",
       "0  Mon-Sun)  \n",
       "1  Mon-Sun)  \n",
       "2  Mon-Sun)  "
      ]
     },
     "execution_count": 185,
     "metadata": {},
     "output_type": "execute_result"
    }
   ],
   "source": [
    "df.head(3)"
   ]
  },
  {
   "cell_type": "markdown",
   "metadata": {},
   "source": [
    "### converting neat and clean pandas dataframe into csv file "
   ]
  },
  {
   "cell_type": "code",
   "execution_count": 186,
   "metadata": {},
   "outputs": [],
   "source": [
    "df.to_csv('Zomato_cleaned.csv',index=False)"
   ]
  },
  {
   "cell_type": "markdown",
   "metadata": {},
   "source": [
    "### Check out next notebook, notebook of this csv file's analysis and insights"
   ]
  },
  {
   "cell_type": "raw",
   "metadata": {},
   "source": []
  }
 ],
 "metadata": {
  "kernelspec": {
   "display_name": "Python 3",
   "language": "python",
   "name": "python3"
  },
  "language_info": {
   "codemirror_mode": {
    "name": "ipython",
    "version": 3
   },
   "file_extension": ".py",
   "mimetype": "text/x-python",
   "name": "python",
   "nbconvert_exporter": "python",
   "pygments_lexer": "ipython3",
   "version": "3.8.5"
  }
 },
 "nbformat": 4,
 "nbformat_minor": 4
}
