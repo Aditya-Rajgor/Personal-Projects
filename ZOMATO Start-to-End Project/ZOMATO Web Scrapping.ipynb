{
 "cells": [
  {
   "cell_type": "markdown",
   "metadata": {},
   "source": [
    "# Zomato vadodara's top 40 pages  restaurents webscrapping "
   ]
  },
  {
   "cell_type": "markdown",
   "metadata": {},
   "source": [
    "## Alert: This webscrapping is done by complate beginner (First Try)"
   ]
  },
  {
   "cell_type": "code",
   "execution_count": 1,
   "metadata": {},
   "outputs": [],
   "source": [
    "from bs4 import BeautifulSoup\n",
    "import requests\n",
    "import pandas as pd"
   ]
  },
  {
   "cell_type": "markdown",
   "metadata": {},
   "source": [
    "###  Creating URL of top 40 webpages"
   ]
  },
  {
   "cell_type": "code",
   "execution_count": 6,
   "metadata": {},
   "outputs": [],
   "source": [
    "page_url = 'https://www.zomato.com/vadodara/restaurants?page='"
   ]
  },
  {
   "cell_type": "code",
   "execution_count": 7,
   "metadata": {},
   "outputs": [],
   "source": [
    "integers=[]\n",
    "for x in range(1,41):\n",
    "    integers.append(x)\n",
    "    \n",
    "integers = map(str,integers)"
   ]
  },
  {
   "cell_type": "code",
   "execution_count": 8,
   "metadata": {
    "scrolled": true
   },
   "outputs": [],
   "source": [
    "url2=[]\n",
    "for i in integers:\n",
    "    url2.append(page_url+i)"
   ]
  },
  {
   "cell_type": "markdown",
   "metadata": {},
   "source": [
    "### After some try and error below webpage were missing important values, I tried to pass the Error by try and Escape method but It didn't work. So I had to remove these pages "
   ]
  },
  {
   "cell_type": "code",
   "execution_count": 9,
   "metadata": {
    "scrolled": true
   },
   "outputs": [],
   "source": [
    "url2.remove('https://www.zomato.com/vadodara/restaurants?page=22')\n",
    "url2.remove('https://www.zomato.com/vadodara/restaurants?page=32')\n",
    "url2.remove('https://www.zomato.com/vadodara/restaurants?page=36')"
   ]
  },
  {
   "cell_type": "markdown",
   "metadata": {},
   "source": [
    "### Our DataFrame's columns"
   ]
  },
  {
   "cell_type": "code",
   "execution_count": 473,
   "metadata": {},
   "outputs": [],
   "source": [
    "Name=[]\n",
    "Rating=[]\n",
    "Rating_counts=[]\n",
    "Delivery_rating=[]\n",
    "Delivery_rating_counts=[]\n",
    "Area = []\n",
    "Adress=[]\n",
    "Cousines=[]\n",
    "Price_for_2=[]\n",
    "Open_time=[]\n",
    "Features_as=[]"
   ]
  },
  {
   "cell_type": "code",
   "execution_count": 474,
   "metadata": {},
   "outputs": [],
   "source": [
    "for i in url2:  \n",
    "    url=i\n",
    "    header ={'User-Agent':'hide'}\n",
    "    response = requests.get(url,headers=header)\n",
    "    html = response.text\n",
    "    soup = BeautifulSoup(html,'html.parser')\n",
    "    all_res = soup.find('div',class_='col-s-16 search-start plr15 col-l-8')\n",
    "    all_res1 = all_res.find_all('div','card search-snippet-card search-card')\n",
    "    \n",
    "    for ii in all_res1:\n",
    "        \n",
    "        name = ii.find('a',class_='result-title hover_feedback zred bold ln24 fontsize0').text\n",
    "        area = ii.find('a',class_='ln24 search-page-text mr10 zblack search_result_subzone left').text\n",
    "        adress = ii.find('div',class_='col-m-16 search-result-address grey-text nowrap ln22').text\n",
    "        cousines = ii.find('span',class_='col-s-11 col-m-12 nowrap pl0').text\n",
    "        price_for_2 = ii.find('span',class_='col-s-11 col-m-12 pl0').text \n",
    "        rating_color = ii.find_all('div',class_='star')[0]['style']\n",
    "        Name.append(name.strip())\n",
    "        Area.append(area.strip())\n",
    "        Adress.append(adress.strip())\n",
    "        Cousines.append(cousines.strip())\n",
    "        Price_for_2.append(price_for_2.strip())\n",
    "        time = ii.find('div',class_='col-s-11 col-m-12 pl0 search-grid-right-text').text\n",
    "        Open_time.append(time.strip())\n",
    "        rating_color = ii.find_all('div',class_='star')[0]['style']\n",
    "        #print(rating_color)\n",
    "        if rating_color=='color:#E23744;':\n",
    "            rating=None\n",
    "            rating_counts=None\n",
    "        else:\n",
    "            rating=ii.find_all('span',class_='rating-value')[0].text\n",
    "            rating_counts = ii.find_all('span',class_='review-count medium')[0].text\n",
    "        Rating.append(rating)\n",
    "        Rating_counts.append(rating_counts)\n",
    "\n",
    "        rating_color1 = ii.find_all('div',class_='star')[0]['style']\n",
    "        \n",
    "        if rating_color1=='color:#1C1C1C':\n",
    "            d_rating=ii.find_all_next('span',class_='rating-value')[1].text\n",
    "            d_rating_counts = ii.find_all_next('span',class_='review-count medium')[1].text\n",
    "        elif rating_color1=='color:#1C1C1C;':\n",
    "            d_rating=None\n",
    "            d_rating_counts=None\n",
    "        else:\n",
    "            d_rating=ii.find_all('span',class_='rating-value')[0].text\n",
    "            d_rating_counts = ii.find_all('span',class_='review-count medium')[0].text\n",
    "        Delivery_rating.append(d_rating)\n",
    "        Delivery_rating_counts.append(d_rating_counts)\n",
    "\n",
    "    "
   ]
  },
  {
   "cell_type": "markdown",
   "metadata": {},
   "source": [
    "### Creating DataFrame from all the lists  "
   ]
  },
  {
   "cell_type": "code",
   "execution_count": 475,
   "metadata": {
    "scrolled": true
   },
   "outputs": [],
   "source": [
    "df=pd.DataFrame({\n",
    "    'Restaurant':Name,\n",
    "    'Cousines':Cousines,\n",
    "    'Rating':Rating,\n",
    "    'Rating_counts':Rating_counts,\n",
    "    'Delivery_rating':Delivery_rating,\n",
    "    'Delivery_rating_counts':Delivery_rating_counts,\n",
    "    'Area':Area,\n",
    "    'Adress':Adress,\n",
    "    'Price_for_2':Price_for_2,\n",
    "    'Open_time':Open_time\n",
    "})"
   ]
  },
  {
   "cell_type": "code",
   "execution_count": 476,
   "metadata": {},
   "outputs": [
    {
     "data": {
      "text/html": [
       "<div>\n",
       "<style scoped>\n",
       "    .dataframe tbody tr th:only-of-type {\n",
       "        vertical-align: middle;\n",
       "    }\n",
       "\n",
       "    .dataframe tbody tr th {\n",
       "        vertical-align: top;\n",
       "    }\n",
       "\n",
       "    .dataframe thead th {\n",
       "        text-align: right;\n",
       "    }\n",
       "</style>\n",
       "<table border=\"1\" class=\"dataframe\">\n",
       "  <thead>\n",
       "    <tr style=\"text-align: right;\">\n",
       "      <th></th>\n",
       "      <th>Restaurant</th>\n",
       "      <th>Cousines</th>\n",
       "      <th>Rating</th>\n",
       "      <th>Rating_counts</th>\n",
       "      <th>Delivery_rating</th>\n",
       "      <th>Delivery_rating_counts</th>\n",
       "      <th>Area</th>\n",
       "      <th>Adress</th>\n",
       "      <th>Price_for_2</th>\n",
       "      <th>Open_time</th>\n",
       "    </tr>\n",
       "  </thead>\n",
       "  <tbody>\n",
       "    <tr>\n",
       "      <th>0</th>\n",
       "      <td>Jassi De Parathe</td>\n",
       "      <td>North Indian</td>\n",
       "      <td>4.7</td>\n",
       "      <td>(1,634)</td>\n",
       "      <td>4.2</td>\n",
       "      <td>(18.5K)</td>\n",
       "      <td>Alkapuri</td>\n",
       "      <td>R.C Dutt Road, Near Kalaniketan, Alkapuri, Vad...</td>\n",
       "      <td>₹600</td>\n",
       "      <td>11am – 11:30pm (Mon-Sun)</td>\n",
       "    </tr>\n",
       "    <tr>\n",
       "      <th>1</th>\n",
       "      <td>Marwari Food Corner</td>\n",
       "      <td>North Indian, Rajasthani, Fast Food, Chinese</td>\n",
       "      <td>4.3</td>\n",
       "      <td>(1,505)</td>\n",
       "      <td>3.8</td>\n",
       "      <td>(29.2K)</td>\n",
       "      <td>Karelibaug</td>\n",
       "      <td>Shop No. 21 &amp; 22 Ratri-bazaar, Mangal Pandey R...</td>\n",
       "      <td>₹250</td>\n",
       "      <td>4pm – 2am (Mon-Sun)</td>\n",
       "    </tr>\n",
       "    <tr>\n",
       "      <th>2</th>\n",
       "      <td>KFC</td>\n",
       "      <td>Burger, Fast Food, Finger Food, Beverages</td>\n",
       "      <td>4.2</td>\n",
       "      <td>(1,003)</td>\n",
       "      <td>4.3</td>\n",
       "      <td>(16.8K)</td>\n",
       "      <td>Vadodara Central, Alkapuri</td>\n",
       "      <td>19, Ground Floor, Vadodara Central Mall, Near ...</td>\n",
       "      <td>₹450</td>\n",
       "      <td>1pm – 9:30pm (Mon-Sun)</td>\n",
       "    </tr>\n",
       "    <tr>\n",
       "      <th>3</th>\n",
       "      <td>Shree Kathiyawadi Khadki</td>\n",
       "      <td>Gujarati, Desserts, Beverages</td>\n",
       "      <td>4.3</td>\n",
       "      <td>(731)</td>\n",
       "      <td>4.3</td>\n",
       "      <td>(29.2K)</td>\n",
       "      <td>Mandvi</td>\n",
       "      <td>Navrang Cinema Road, Near Tower Four Ways, Rao...</td>\n",
       "      <td>₹300</td>\n",
       "      <td>11am – 3:30pm, 7pm – 11pm (Mon-Sun)</td>\n",
       "    </tr>\n",
       "    <tr>\n",
       "      <th>4</th>\n",
       "      <td>Yo Frankie</td>\n",
       "      <td>Fast Food</td>\n",
       "      <td>4.5</td>\n",
       "      <td>(963)</td>\n",
       "      <td>4.3</td>\n",
       "      <td>(55.4K)</td>\n",
       "      <td>Alkapuri</td>\n",
       "      <td>Bombay Shopping Centre, RC Dutt Rd, Race Cours...</td>\n",
       "      <td>₹250</td>\n",
       "      <td>9am – 12midnight (Mon-Sun)</td>\n",
       "    </tr>\n",
       "    <tr>\n",
       "      <th>...</th>\n",
       "      <td>...</td>\n",
       "      <td>...</td>\n",
       "      <td>...</td>\n",
       "      <td>...</td>\n",
       "      <td>...</td>\n",
       "      <td>...</td>\n",
       "      <td>...</td>\n",
       "      <td>...</td>\n",
       "      <td>...</td>\n",
       "      <td>...</td>\n",
       "    </tr>\n",
       "    <tr>\n",
       "      <th>546</th>\n",
       "      <td>Ellora Milk Centre</td>\n",
       "      <td>Beverages</td>\n",
       "      <td>None</td>\n",
       "      <td>None</td>\n",
       "      <td>4.1</td>\n",
       "      <td>(573 Reviews)</td>\n",
       "      <td>Subhanpura</td>\n",
       "      <td>1, Ellora Park Shopping Centre, Ellora Park, S...</td>\n",
       "      <td>₹200</td>\n",
       "      <td>9am – 8:15pm (Mon-Sun)</td>\n",
       "    </tr>\n",
       "    <tr>\n",
       "      <th>547</th>\n",
       "      <td>Cafe Appetito</td>\n",
       "      <td>Cafe, Fast Food, Beverages</td>\n",
       "      <td>3.4</td>\n",
       "      <td>(66)</td>\n",
       "      <td>4.3</td>\n",
       "      <td>(868)</td>\n",
       "      <td>Akota</td>\n",
       "      <td>Zex House, Opposite Galleria Mall, Shankheshwa...</td>\n",
       "      <td>₹400</td>\n",
       "      <td>11am – 2:30am (Mon-Sun)</td>\n",
       "    </tr>\n",
       "    <tr>\n",
       "      <th>548</th>\n",
       "      <td>Nylon Pav Bhaji</td>\n",
       "      <td>Fast Food</td>\n",
       "      <td>3.7</td>\n",
       "      <td>(66)</td>\n",
       "      <td>4.1</td>\n",
       "      <td>(1,815)</td>\n",
       "      <td>Manjalpur</td>\n",
       "      <td>Dorado Complex, G3, Kubereshwar Mahadev Marg, ...</td>\n",
       "      <td>₹250</td>\n",
       "      <td>5pm – 9pm (Mon-Sun)</td>\n",
       "    </tr>\n",
       "    <tr>\n",
       "      <th>549</th>\n",
       "      <td>Dal Roti Food Service</td>\n",
       "      <td>Gujarati, Maharashtrian</td>\n",
       "      <td>3.8</td>\n",
       "      <td>(60)</td>\n",
       "      <td>3.6</td>\n",
       "      <td>(868)</td>\n",
       "      <td>Karelibaug</td>\n",
       "      <td>Khubharwada-1, Salatwada, Karelibaug, Vadodara</td>\n",
       "      <td>₹200</td>\n",
       "      <td>8am – 9pm (Mon-Sun)</td>\n",
       "    </tr>\n",
       "    <tr>\n",
       "      <th>550</th>\n",
       "      <td>Champaklal Pavbhaji</td>\n",
       "      <td>Street Food</td>\n",
       "      <td>3.6</td>\n",
       "      <td>(60)</td>\n",
       "      <td>4.1</td>\n",
       "      <td>(1,203)</td>\n",
       "      <td>Subhanpura</td>\n",
       "      <td>C 81, Nutan Maheshwari Nagar Society, Near Bha...</td>\n",
       "      <td>₹200</td>\n",
       "      <td>11am – 3pm, 5pm – 11pm (Mon-Sun)</td>\n",
       "    </tr>\n",
       "  </tbody>\n",
       "</table>\n",
       "<p>551 rows × 10 columns</p>\n",
       "</div>"
      ],
      "text/plain": [
       "                   Restaurant                                      Cousines  \\\n",
       "0            Jassi De Parathe                                  North Indian   \n",
       "1         Marwari Food Corner  North Indian, Rajasthani, Fast Food, Chinese   \n",
       "2                         KFC     Burger, Fast Food, Finger Food, Beverages   \n",
       "3    Shree Kathiyawadi Khadki                 Gujarati, Desserts, Beverages   \n",
       "4                  Yo Frankie                                     Fast Food   \n",
       "..                        ...                                           ...   \n",
       "546        Ellora Milk Centre                                     Beverages   \n",
       "547             Cafe Appetito                    Cafe, Fast Food, Beverages   \n",
       "548           Nylon Pav Bhaji                                     Fast Food   \n",
       "549     Dal Roti Food Service                       Gujarati, Maharashtrian   \n",
       "550       Champaklal Pavbhaji                                   Street Food   \n",
       "\n",
       "    Rating Rating_counts Delivery_rating Delivery_rating_counts  \\\n",
       "0      4.7       (1,634)             4.2                (18.5K)   \n",
       "1      4.3       (1,505)             3.8                (29.2K)   \n",
       "2      4.2       (1,003)             4.3                (16.8K)   \n",
       "3      4.3         (731)             4.3                (29.2K)   \n",
       "4      4.5         (963)             4.3                (55.4K)   \n",
       "..     ...           ...             ...                    ...   \n",
       "546   None          None             4.1          (573 Reviews)   \n",
       "547    3.4          (66)             4.3                  (868)   \n",
       "548    3.7          (66)             4.1                (1,815)   \n",
       "549    3.8          (60)             3.6                  (868)   \n",
       "550    3.6          (60)             4.1                (1,203)   \n",
       "\n",
       "                           Area  \\\n",
       "0                      Alkapuri   \n",
       "1                    Karelibaug   \n",
       "2    Vadodara Central, Alkapuri   \n",
       "3                        Mandvi   \n",
       "4                      Alkapuri   \n",
       "..                          ...   \n",
       "546                  Subhanpura   \n",
       "547                       Akota   \n",
       "548                   Manjalpur   \n",
       "549                  Karelibaug   \n",
       "550                  Subhanpura   \n",
       "\n",
       "                                                Adress Price_for_2  \\\n",
       "0    R.C Dutt Road, Near Kalaniketan, Alkapuri, Vad...        ₹600   \n",
       "1    Shop No. 21 & 22 Ratri-bazaar, Mangal Pandey R...        ₹250   \n",
       "2    19, Ground Floor, Vadodara Central Mall, Near ...        ₹450   \n",
       "3    Navrang Cinema Road, Near Tower Four Ways, Rao...        ₹300   \n",
       "4    Bombay Shopping Centre, RC Dutt Rd, Race Cours...        ₹250   \n",
       "..                                                 ...         ...   \n",
       "546  1, Ellora Park Shopping Centre, Ellora Park, S...        ₹200   \n",
       "547  Zex House, Opposite Galleria Mall, Shankheshwa...        ₹400   \n",
       "548  Dorado Complex, G3, Kubereshwar Mahadev Marg, ...        ₹250   \n",
       "549     Khubharwada-1, Salatwada, Karelibaug, Vadodara        ₹200   \n",
       "550  C 81, Nutan Maheshwari Nagar Society, Near Bha...        ₹200   \n",
       "\n",
       "                               Open_time  \n",
       "0               11am – 11:30pm (Mon-Sun)  \n",
       "1                    4pm – 2am (Mon-Sun)  \n",
       "2                 1pm – 9:30pm (Mon-Sun)  \n",
       "3    11am – 3:30pm, 7pm – 11pm (Mon-Sun)  \n",
       "4             9am – 12midnight (Mon-Sun)  \n",
       "..                                   ...  \n",
       "546               9am – 8:15pm (Mon-Sun)  \n",
       "547              11am – 2:30am (Mon-Sun)  \n",
       "548                  5pm – 9pm (Mon-Sun)  \n",
       "549                  8am – 9pm (Mon-Sun)  \n",
       "550     11am – 3pm, 5pm – 11pm (Mon-Sun)  \n",
       "\n",
       "[551 rows x 10 columns]"
      ]
     },
     "execution_count": 476,
     "metadata": {},
     "output_type": "execute_result"
    }
   ],
   "source": [
    "df"
   ]
  },
  {
   "cell_type": "code",
   "execution_count": 477,
   "metadata": {},
   "outputs": [],
   "source": [
    "df.to_csv('zomato_vadodara.csv')"
   ]
  },
  {
   "cell_type": "markdown",
   "metadata": {},
   "source": [
    "## This looks so simple, but it's not. I was stucked at Rating and Delivery Rating, Some restaurents has either  rating and rating counts or delivery rating and delivery rating counts. So filling Other rating as **None** was the challange. I was really  a HARD task, but I did it."
   ]
  },
  {
   "cell_type": "markdown",
   "metadata": {},
   "source": [
    "## Check out Next Notebook about cleaning this dataset"
   ]
  },
  {
   "cell_type": "raw",
   "metadata": {},
   "source": []
  }
 ],
 "metadata": {
  "kernelspec": {
   "display_name": "Python 3",
   "language": "python",
   "name": "python3"
  },
  "language_info": {
   "codemirror_mode": {
    "name": "ipython",
    "version": 3
   },
   "file_extension": ".py",
   "mimetype": "text/x-python",
   "name": "python",
   "nbconvert_exporter": "python",
   "pygments_lexer": "ipython3",
   "version": "3.8.5"
  }
 },
 "nbformat": 4,
 "nbformat_minor": 4
}
